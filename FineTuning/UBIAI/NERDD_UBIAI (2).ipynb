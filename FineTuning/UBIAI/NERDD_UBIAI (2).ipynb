{
 "cells": [
  {
   "cell_type": "markdown",
   "metadata": {},
   "source": [
    "# IMPORT"
   ]
  },
  {
   "cell_type": "markdown",
   "metadata": {},
   "source": [
    "## Install"
   ]
  },
  {
   "cell_type": "code",
   "execution_count": 1,
   "metadata": {},
   "outputs": [
    {
     "name": "stdout",
     "output_type": "stream",
     "text": [
      "Requirement already satisfied: bitsandbytes in /usr/local/lib/python3.10/dist-packages (0.43.3)\n",
      "Requirement already satisfied: torch in /usr/local/lib/python3.10/dist-packages (from bitsandbytes) (2.3.1)\n",
      "Requirement already satisfied: numpy in /usr/local/lib/python3.10/dist-packages (from bitsandbytes) (1.24.1)\n",
      "Requirement already satisfied: filelock in /usr/local/lib/python3.10/dist-packages (from torch->bitsandbytes) (3.9.0)\n",
      "Requirement already satisfied: typing-extensions>=4.8.0 in /usr/local/lib/python3.10/dist-packages (from torch->bitsandbytes) (4.12.2)\n",
      "Requirement already satisfied: sympy in /usr/local/lib/python3.10/dist-packages (from torch->bitsandbytes) (1.12)\n",
      "Requirement already satisfied: networkx in /usr/local/lib/python3.10/dist-packages (from torch->bitsandbytes) (3.0)\n",
      "Requirement already satisfied: jinja2 in /usr/local/lib/python3.10/dist-packages (from torch->bitsandbytes) (3.1.2)\n",
      "Requirement already satisfied: fsspec in /usr/local/lib/python3.10/dist-packages (from torch->bitsandbytes) (2024.5.0)\n",
      "Requirement already satisfied: nvidia-cuda-nvrtc-cu12==12.1.105 in /usr/local/lib/python3.10/dist-packages (from torch->bitsandbytes) (12.1.105)\n",
      "Requirement already satisfied: nvidia-cuda-runtime-cu12==12.1.105 in /usr/local/lib/python3.10/dist-packages (from torch->bitsandbytes) (12.1.105)\n",
      "Requirement already satisfied: nvidia-cuda-cupti-cu12==12.1.105 in /usr/local/lib/python3.10/dist-packages (from torch->bitsandbytes) (12.1.105)\n",
      "Requirement already satisfied: nvidia-cudnn-cu12==8.9.2.26 in /usr/local/lib/python3.10/dist-packages (from torch->bitsandbytes) (8.9.2.26)\n",
      "Requirement already satisfied: nvidia-cublas-cu12==12.1.3.1 in /usr/local/lib/python3.10/dist-packages (from torch->bitsandbytes) (12.1.3.1)\n",
      "Requirement already satisfied: nvidia-cufft-cu12==11.0.2.54 in /usr/local/lib/python3.10/dist-packages (from torch->bitsandbytes) (11.0.2.54)\n",
      "Requirement already satisfied: nvidia-curand-cu12==10.3.2.106 in /usr/local/lib/python3.10/dist-packages (from torch->bitsandbytes) (10.3.2.106)\n",
      "Requirement already satisfied: nvidia-cusolver-cu12==11.4.5.107 in /usr/local/lib/python3.10/dist-packages (from torch->bitsandbytes) (11.4.5.107)\n",
      "Requirement already satisfied: nvidia-cusparse-cu12==12.1.0.106 in /usr/local/lib/python3.10/dist-packages (from torch->bitsandbytes) (12.1.0.106)\n",
      "Requirement already satisfied: nvidia-nccl-cu12==2.20.5 in /usr/local/lib/python3.10/dist-packages (from torch->bitsandbytes) (2.20.5)\n",
      "Requirement already satisfied: nvidia-nvtx-cu12==12.1.105 in /usr/local/lib/python3.10/dist-packages (from torch->bitsandbytes) (12.1.105)\n",
      "Requirement already satisfied: triton==2.3.1 in /usr/local/lib/python3.10/dist-packages (from torch->bitsandbytes) (2.3.1)\n",
      "Requirement already satisfied: nvidia-nvjitlink-cu12 in /usr/local/lib/python3.10/dist-packages (from nvidia-cusolver-cu12==11.4.5.107->torch->bitsandbytes) (12.6.20)\n",
      "Requirement already satisfied: MarkupSafe>=2.0 in /usr/local/lib/python3.10/dist-packages (from jinja2->torch->bitsandbytes) (2.1.2)\n",
      "Requirement already satisfied: mpmath>=0.19 in /usr/local/lib/python3.10/dist-packages (from sympy->torch->bitsandbytes) (1.3.0)\n"
     ]
    }
   ],
   "source": [
    "!pip install --root-user-action=ignore bitsandbytes "
   ]
  },
  {
   "cell_type": "code",
   "execution_count": 2,
   "metadata": {},
   "outputs": [],
   "source": [
    "!pip install --root-user-action=ignore -q git+https://github.com/huggingface/transformers.git\n",
    "!pip install --root-user-action=ignore -q git+https://github.com/huggingface/peft.git\n",
    "!pip install --root-user-action=ignore -q git+https://github.com/huggingface/accelerate.git"
   ]
  },
  {
   "cell_type": "code",
   "execution_count": 3,
   "metadata": {},
   "outputs": [
    {
     "name": "stdout",
     "output_type": "stream",
     "text": [
      "\u001b[31mERROR: pip's dependency resolver does not currently take into account all the packages that are installed. This behaviour is the source of the following dependency conflicts.\n",
      "torchaudio 2.1.0+cu118 requires torch==2.1.0, but you have torch 2.4.0 which is incompatible.\n",
      "torchvision 0.16.0+cu118 requires torch==2.1.0, but you have torch 2.4.0 which is incompatible.\u001b[0m\u001b[31m\n",
      "\u001b[0m"
     ]
    }
   ],
   "source": [
    "!pip install --root-user-action=ignore -q trl xformers wandb datasets einops gradio sentencepiece"
   ]
  },
  {
   "cell_type": "code",
   "execution_count": 4,
   "metadata": {},
   "outputs": [
    {
     "name": "stdout",
     "output_type": "stream",
     "text": [
      "\u001b[31mERROR: pip's dependency resolver does not currently take into account all the packages that are installed. This behaviour is the source of the following dependency conflicts.\n",
      "torchaudio 2.1.0+cu118 requires torch==2.1.0, but you have torch 2.3.1 which is incompatible.\n",
      "torchvision 0.16.0+cu118 requires torch==2.1.0, but you have torch 2.3.1 which is incompatible.\n",
      "xformers 0.0.27.post2 requires torch==2.4.0, but you have torch 2.3.1 which is incompatible.\u001b[0m\u001b[31m\n",
      "\u001b[0m"
     ]
    }
   ],
   "source": [
    "!pip install --root-user-action=ignore -q torch==2.3.1"
   ]
  },
  {
   "cell_type": "code",
   "execution_count": 5,
   "metadata": {},
   "outputs": [
    {
     "name": "stdout",
     "output_type": "stream",
     "text": [
      "\u001b[31mERROR: pip's dependency resolver does not currently take into account all the packages that are installed. This behaviour is the source of the following dependency conflicts.\n",
      "fastapi 0.112.0 requires typing-extensions>=4.8.0, but you have typing-extensions 4.7.1 which is incompatible.\n",
      "torch 2.3.1 requires typing-extensions>=4.8.0, but you have typing-extensions 4.7.1 which is incompatible.\n",
      "torchaudio 2.1.0+cu118 requires torch==2.1.0, but you have torch 2.3.1 which is incompatible.\n",
      "torchvision 0.16.0+cu118 requires torch==2.1.0, but you have torch 2.3.1 which is incompatible.\n",
      "xformers 0.0.27.post2 requires torch==2.4.0, but you have torch 2.3.1 which is incompatible.\u001b[0m\u001b[31m\n",
      "\u001b[0mNote: you may need to restart the kernel to use updated packages.\n"
     ]
    }
   ],
   "source": [
    "pip install --root-user-action=ignore -q typing_extensions==4.7.1 --upgrade"
   ]
  },
  {
   "cell_type": "code",
   "execution_count": 6,
   "metadata": {},
   "outputs": [
    {
     "name": "stdout",
     "output_type": "stream",
     "text": [
      "\u001b[31mERROR: pip's dependency resolver does not currently take into account all the packages that are installed. This behaviour is the source of the following dependency conflicts.\n",
      "torchaudio 2.1.0+cu118 requires torch==2.1.0, but you have torch 2.3.1 which is incompatible.\n",
      "torchvision 0.16.0+cu118 requires torch==2.1.0, but you have torch 2.3.1 which is incompatible.\n",
      "xformers 0.0.27.post2 requires torch==2.4.0, but you have torch 2.3.1 which is incompatible.\u001b[0m\u001b[31m\n",
      "\u001b[0m"
     ]
    }
   ],
   "source": [
    "!pip install --root-user-action=ignore -q gradio"
   ]
  },
  {
   "cell_type": "code",
   "execution_count": 7,
   "metadata": {},
   "outputs": [
    {
     "name": "stdout",
     "output_type": "stream",
     "text": [
      "Requirement already satisfied: pandas in /usr/local/lib/python3.10/dist-packages (2.2.2)\n",
      "Requirement already satisfied: numpy>=1.22.4 in /usr/local/lib/python3.10/dist-packages (from pandas) (1.24.1)\n",
      "Requirement already satisfied: python-dateutil>=2.8.2 in /usr/local/lib/python3.10/dist-packages (from pandas) (2.8.2)\n",
      "Requirement already satisfied: pytz>=2020.1 in /usr/local/lib/python3.10/dist-packages (from pandas) (2024.1)\n",
      "Requirement already satisfied: tzdata>=2022.7 in /usr/local/lib/python3.10/dist-packages (from pandas) (2024.1)\n",
      "Requirement already satisfied: six>=1.5 in /usr/lib/python3/dist-packages (from python-dateutil>=2.8.2->pandas) (1.16.0)\n"
     ]
    }
   ],
   "source": [
    "!pip install --root-user-action=ignore pandas"
   ]
  },
  {
   "cell_type": "code",
   "execution_count": 8,
   "metadata": {},
   "outputs": [
    {
     "name": "stdout",
     "output_type": "stream",
     "text": [
      "Requirement already satisfied: datasets in /usr/local/lib/python3.10/dist-packages (2.20.0)\n",
      "Requirement already satisfied: filelock in /usr/local/lib/python3.10/dist-packages (from datasets) (3.9.0)\n",
      "Requirement already satisfied: numpy>=1.17 in /usr/local/lib/python3.10/dist-packages (from datasets) (1.24.1)\n",
      "Requirement already satisfied: pyarrow>=15.0.0 in /usr/local/lib/python3.10/dist-packages (from datasets) (17.0.0)\n",
      "Requirement already satisfied: pyarrow-hotfix in /usr/local/lib/python3.10/dist-packages (from datasets) (0.6)\n",
      "Requirement already satisfied: dill<0.3.9,>=0.3.0 in /usr/local/lib/python3.10/dist-packages (from datasets) (0.3.8)\n",
      "Requirement already satisfied: pandas in /usr/local/lib/python3.10/dist-packages (from datasets) (2.2.2)\n",
      "Requirement already satisfied: requests>=2.32.2 in /usr/local/lib/python3.10/dist-packages (from datasets) (2.32.3)\n",
      "Requirement already satisfied: tqdm>=4.66.3 in /usr/local/lib/python3.10/dist-packages (from datasets) (4.66.5)\n",
      "Requirement already satisfied: xxhash in /usr/local/lib/python3.10/dist-packages (from datasets) (3.4.1)\n",
      "Requirement already satisfied: multiprocess in /usr/local/lib/python3.10/dist-packages (from datasets) (0.70.16)\n",
      "Requirement already satisfied: fsspec<=2024.5.0,>=2023.1.0 in /usr/local/lib/python3.10/dist-packages (from fsspec[http]<=2024.5.0,>=2023.1.0->datasets) (2024.5.0)\n",
      "Requirement already satisfied: aiohttp in /usr/local/lib/python3.10/dist-packages (from datasets) (3.10.3)\n",
      "Requirement already satisfied: huggingface-hub>=0.21.2 in /usr/local/lib/python3.10/dist-packages (from datasets) (0.24.5)\n",
      "Requirement already satisfied: packaging in /usr/local/lib/python3.10/dist-packages (from datasets) (23.2)\n",
      "Requirement already satisfied: pyyaml>=5.1 in /usr/local/lib/python3.10/dist-packages (from datasets) (6.0.1)\n",
      "Requirement already satisfied: aiohappyeyeballs>=2.3.0 in /usr/local/lib/python3.10/dist-packages (from aiohttp->datasets) (2.3.5)\n",
      "Requirement already satisfied: aiosignal>=1.1.2 in /usr/local/lib/python3.10/dist-packages (from aiohttp->datasets) (1.3.1)\n",
      "Requirement already satisfied: attrs>=17.3.0 in /usr/local/lib/python3.10/dist-packages (from aiohttp->datasets) (23.1.0)\n",
      "Requirement already satisfied: frozenlist>=1.1.1 in /usr/local/lib/python3.10/dist-packages (from aiohttp->datasets) (1.4.1)\n",
      "Requirement already satisfied: multidict<7.0,>=4.5 in /usr/local/lib/python3.10/dist-packages (from aiohttp->datasets) (6.0.5)\n",
      "Requirement already satisfied: yarl<2.0,>=1.0 in /usr/local/lib/python3.10/dist-packages (from aiohttp->datasets) (1.9.4)\n",
      "Requirement already satisfied: async-timeout<5.0,>=4.0 in /usr/local/lib/python3.10/dist-packages (from aiohttp->datasets) (4.0.3)\n",
      "Requirement already satisfied: typing-extensions>=3.7.4.3 in /usr/local/lib/python3.10/dist-packages (from huggingface-hub>=0.21.2->datasets) (4.12.2)\n",
      "Requirement already satisfied: charset-normalizer<4,>=2 in /usr/local/lib/python3.10/dist-packages (from requests>=2.32.2->datasets) (2.1.1)\n",
      "Requirement already satisfied: idna<4,>=2.5 in /usr/local/lib/python3.10/dist-packages (from requests>=2.32.2->datasets) (3.4)\n",
      "Requirement already satisfied: urllib3<3,>=1.21.1 in /usr/local/lib/python3.10/dist-packages (from requests>=2.32.2->datasets) (2.2.2)\n",
      "Requirement already satisfied: certifi>=2017.4.17 in /usr/local/lib/python3.10/dist-packages (from requests>=2.32.2->datasets) (2022.12.7)\n",
      "Requirement already satisfied: python-dateutil>=2.8.2 in /usr/local/lib/python3.10/dist-packages (from pandas->datasets) (2.8.2)\n",
      "Requirement already satisfied: pytz>=2020.1 in /usr/local/lib/python3.10/dist-packages (from pandas->datasets) (2024.1)\n",
      "Requirement already satisfied: tzdata>=2022.7 in /usr/local/lib/python3.10/dist-packages (from pandas->datasets) (2024.1)\n",
      "Requirement already satisfied: six>=1.5 in /usr/lib/python3/dist-packages (from python-dateutil>=2.8.2->pandas->datasets) (1.16.0)\n"
     ]
    }
   ],
   "source": [
    "!pip install --root-user-action=ignore datasets"
   ]
  },
  {
   "cell_type": "code",
   "execution_count": 9,
   "metadata": {},
   "outputs": [
    {
     "name": "stdout",
     "output_type": "stream",
     "text": [
      "Requirement already satisfied: transformers in /usr/local/lib/python3.10/dist-packages (4.45.0.dev0)\n",
      "Requirement already satisfied: accelerate in /usr/local/lib/python3.10/dist-packages (0.33.0.dev0)\n",
      "Requirement already satisfied: bitsandbytes in /usr/local/lib/python3.10/dist-packages (0.43.3)\n",
      "Requirement already satisfied: filelock in /usr/local/lib/python3.10/dist-packages (from transformers) (3.9.0)\n",
      "Requirement already satisfied: huggingface-hub<1.0,>=0.23.2 in /usr/local/lib/python3.10/dist-packages (from transformers) (0.24.5)\n",
      "Requirement already satisfied: numpy>=1.17 in /usr/local/lib/python3.10/dist-packages (from transformers) (1.24.1)\n",
      "Requirement already satisfied: packaging>=20.0 in /usr/local/lib/python3.10/dist-packages (from transformers) (23.2)\n",
      "Requirement already satisfied: pyyaml>=5.1 in /usr/local/lib/python3.10/dist-packages (from transformers) (6.0.1)\n",
      "Requirement already satisfied: regex!=2019.12.17 in /usr/local/lib/python3.10/dist-packages (from transformers) (2024.7.24)\n",
      "Requirement already satisfied: requests in /usr/local/lib/python3.10/dist-packages (from transformers) (2.32.3)\n",
      "Requirement already satisfied: tokenizers<0.20,>=0.19 in /usr/local/lib/python3.10/dist-packages (from transformers) (0.19.1)\n",
      "Requirement already satisfied: safetensors>=0.4.1 in /usr/local/lib/python3.10/dist-packages (from transformers) (0.4.4)\n",
      "Requirement already satisfied: tqdm>=4.27 in /usr/local/lib/python3.10/dist-packages (from transformers) (4.66.5)\n",
      "Requirement already satisfied: psutil in /usr/local/lib/python3.10/dist-packages (from accelerate) (5.9.6)\n",
      "Requirement already satisfied: torch>=1.10.0 in /usr/local/lib/python3.10/dist-packages (from accelerate) (2.3.1)\n",
      "Requirement already satisfied: fsspec>=2023.5.0 in /usr/local/lib/python3.10/dist-packages (from huggingface-hub<1.0,>=0.23.2->transformers) (2024.5.0)\n",
      "Requirement already satisfied: typing-extensions>=3.7.4.3 in /usr/local/lib/python3.10/dist-packages (from huggingface-hub<1.0,>=0.23.2->transformers) (4.12.2)\n",
      "Requirement already satisfied: sympy in /usr/local/lib/python3.10/dist-packages (from torch>=1.10.0->accelerate) (1.12)\n",
      "Requirement already satisfied: networkx in /usr/local/lib/python3.10/dist-packages (from torch>=1.10.0->accelerate) (3.0)\n",
      "Requirement already satisfied: jinja2 in /usr/local/lib/python3.10/dist-packages (from torch>=1.10.0->accelerate) (3.1.2)\n",
      "Requirement already satisfied: nvidia-cuda-nvrtc-cu12==12.1.105 in /usr/local/lib/python3.10/dist-packages (from torch>=1.10.0->accelerate) (12.1.105)\n",
      "Requirement already satisfied: nvidia-cuda-runtime-cu12==12.1.105 in /usr/local/lib/python3.10/dist-packages (from torch>=1.10.0->accelerate) (12.1.105)\n",
      "Requirement already satisfied: nvidia-cuda-cupti-cu12==12.1.105 in /usr/local/lib/python3.10/dist-packages (from torch>=1.10.0->accelerate) (12.1.105)\n",
      "Requirement already satisfied: nvidia-cudnn-cu12==8.9.2.26 in /usr/local/lib/python3.10/dist-packages (from torch>=1.10.0->accelerate) (8.9.2.26)\n",
      "Requirement already satisfied: nvidia-cublas-cu12==12.1.3.1 in /usr/local/lib/python3.10/dist-packages (from torch>=1.10.0->accelerate) (12.1.3.1)\n",
      "Requirement already satisfied: nvidia-cufft-cu12==11.0.2.54 in /usr/local/lib/python3.10/dist-packages (from torch>=1.10.0->accelerate) (11.0.2.54)\n",
      "Requirement already satisfied: nvidia-curand-cu12==10.3.2.106 in /usr/local/lib/python3.10/dist-packages (from torch>=1.10.0->accelerate) (10.3.2.106)\n",
      "Requirement already satisfied: nvidia-cusolver-cu12==11.4.5.107 in /usr/local/lib/python3.10/dist-packages (from torch>=1.10.0->accelerate) (11.4.5.107)\n",
      "Requirement already satisfied: nvidia-cusparse-cu12==12.1.0.106 in /usr/local/lib/python3.10/dist-packages (from torch>=1.10.0->accelerate) (12.1.0.106)\n",
      "Requirement already satisfied: nvidia-nccl-cu12==2.20.5 in /usr/local/lib/python3.10/dist-packages (from torch>=1.10.0->accelerate) (2.20.5)\n",
      "Requirement already satisfied: nvidia-nvtx-cu12==12.1.105 in /usr/local/lib/python3.10/dist-packages (from torch>=1.10.0->accelerate) (12.1.105)\n",
      "Requirement already satisfied: triton==2.3.1 in /usr/local/lib/python3.10/dist-packages (from torch>=1.10.0->accelerate) (2.3.1)\n",
      "Requirement already satisfied: nvidia-nvjitlink-cu12 in /usr/local/lib/python3.10/dist-packages (from nvidia-cusolver-cu12==11.4.5.107->torch>=1.10.0->accelerate) (12.6.20)\n",
      "Requirement already satisfied: charset-normalizer<4,>=2 in /usr/local/lib/python3.10/dist-packages (from requests->transformers) (2.1.1)\n",
      "Requirement already satisfied: idna<4,>=2.5 in /usr/local/lib/python3.10/dist-packages (from requests->transformers) (3.4)\n",
      "Requirement already satisfied: urllib3<3,>=1.21.1 in /usr/local/lib/python3.10/dist-packages (from requests->transformers) (2.2.2)\n",
      "Requirement already satisfied: certifi>=2017.4.17 in /usr/local/lib/python3.10/dist-packages (from requests->transformers) (2022.12.7)\n",
      "Requirement already satisfied: MarkupSafe>=2.0 in /usr/local/lib/python3.10/dist-packages (from jinja2->torch>=1.10.0->accelerate) (2.1.2)\n",
      "Requirement already satisfied: mpmath>=0.19 in /usr/local/lib/python3.10/dist-packages (from sympy->torch>=1.10.0->accelerate) (1.3.0)\n",
      "\u001b[33mWARNING: Running pip as the 'root' user can result in broken permissions and conflicting behaviour with the system package manager, possibly rendering your system unusable.It is recommended to use a virtual environment instead: https://pip.pypa.io/warnings/venv. Use the --root-user-action option if you know what you are doing and want to suppress this warning.\u001b[0m\u001b[33m\n",
      "\u001b[0m"
     ]
    }
   ],
   "source": [
    "!pip install transformers accelerate bitsandbytes"
   ]
  },
  {
   "cell_type": "markdown",
   "metadata": {},
   "source": [
    "## Import"
   ]
  },
  {
   "cell_type": "code",
   "execution_count": 10,
   "metadata": {},
   "outputs": [],
   "source": [
    "from typing_extensions import Annotated\n",
    "import os\n",
    "import torch\n",
    "import wandb\n",
    "import platform\n",
    "import gradio\n",
    "import warnings\n",
    "import json"
   ]
  },
  {
   "cell_type": "code",
   "execution_count": 11,
   "metadata": {},
   "outputs": [],
   "source": [
    "import csv"
   ]
  },
  {
   "cell_type": "code",
   "execution_count": 12,
   "metadata": {},
   "outputs": [],
   "source": [
    "import pandas as pd\n",
    "from datasets import Dataset"
   ]
  },
  {
   "cell_type": "code",
   "execution_count": 13,
   "metadata": {},
   "outputs": [
    {
     "name": "stderr",
     "output_type": "stream",
     "text": [
      "/usr/local/lib/python3.10/dist-packages/torchvision/io/image.py:13: UserWarning: Failed to load image Python extension: '/usr/local/lib/python3.10/dist-packages/torchvision/image.so: undefined symbol: _ZN3c1017RegisterOperatorsD1Ev'If you don't plan on using image functionality from `torchvision.io`, you can ignore this warning. Otherwise, there might be something wrong with your environment. Did you have `libjpeg` or `libpng` installed before building `torchvision` from source?\n",
      "  warn(\n"
     ]
    }
   ],
   "source": [
    "from transformers import AutoModelForCausalLM, AutoTokenizer, BitsAndBytesConfig,HfArgumentParser,TrainingArguments,pipeline, logging, TextStreamer\n",
    "from peft import LoraConfig, PeftModel, prepare_model_for_kbit_training, get_peft_model"
   ]
  },
  {
   "cell_type": "code",
   "execution_count": 14,
   "metadata": {},
   "outputs": [],
   "source": [
    "from trl import SFTTrainer\n",
    "from huggingface_hub import notebook_login\n",
    "base_model, new_model = \"mistralai/Mistral-7B-v0.1\" , \"ilyesbk/NER_mistral_7b\""
   ]
  },
  {
   "cell_type": "markdown",
   "metadata": {},
   "source": [
    "# Leitura do Arquivo NER"
   ]
  },
  {
   "cell_type": "code",
   "execution_count": 15,
   "metadata": {
    "id": "xssf2ZMfHpQw"
   },
   "outputs": [],
   "source": [
    "# Read JSON data from file\n",
    "with open('NERDD.json', 'r') as file:\n",
    "    data = json.load(file)"
   ]
  },
  {
   "cell_type": "code",
   "execution_count": 16,
   "metadata": {},
   "outputs": [
    {
     "name": "stdout",
     "output_type": "stream",
     "text": [
      "1\n"
     ]
    }
   ],
   "source": [
    "results = []\n",
    "for document in data:\n",
    "    document_name = document[\"documentName\"]\n",
    "    text = document[\"document\"]\n",
    "    annotations = document[\"tokens\"]\n",
    "\n",
    "    result = {}\n",
    "\n",
    "    for annotation in annotations:\n",
    "        label = annotation[\"entityLabel\"]\n",
    "        text_extracted = annotation[\"text\"]\n",
    "\n",
    "        if label not in result:\n",
    "            result[label] = set()  # Use a set to avoid duplicates\n",
    "\n",
    "        result[label].add(text_extracted)\n",
    "\n",
    "    # Convert sets back to lists before creating the result entry\n",
    "    result = {label: list(entities) for label, entities in result.items()}\n",
    "\n",
    "    result_entry = {\"document_name\": document_name, \"text\": text, \"result\": result}\n",
    "    results.append(result_entry)\n",
    "\n",
    "print(len(results))"
   ]
  },
  {
   "cell_type": "code",
   "execution_count": 17,
   "metadata": {
    "id": "ghawexr7Hxa3"
   },
   "outputs": [
    {
     "name": "stdout",
     "output_type": "stream",
     "text": [
      "Unique Labels: {'PESSOA', 'LOCAL', 'ORG'}\n"
     ]
    }
   ],
   "source": [
    "# Extracting unique labels from all objects\n",
    "unique_labels = set()\n",
    "for obj in results:\n",
    "    unique_labels.update(obj[\"result\"].keys())\n",
    "\n",
    "print(\"Unique Labels:\", unique_labels)"
   ]
  },
  {
   "cell_type": "markdown",
   "metadata": {},
   "source": [
    "## Testes do Arquivo NER"
   ]
  },
  {
   "cell_type": "code",
   "execution_count": 18,
   "metadata": {
    "id": "MwbUBeGOHySj"
   },
   "outputs": [
    {
     "name": "stdout",
     "output_type": "stream",
     "text": [
      "{\n",
      "  \"document_name\": \"TraficodeDrogasArmas.txt\",\n",
      "  \"text\": \"Boa noite todos os dias a noite jovens usam drogas sem nenhum pudor aos vizinhos nesses endere\\u00e7os a\\u00ed. Hugo Freitas fiquei sabendo que esse Hugo Freitas esconde as drogas dentro da mochila em casa. Esse \\u00e9 o respons\\u00e1vel pela compra das drogas e consumo entre os jovens nestes endere\\u00e7os conforme listei. Tudo isso a noite entre Duque de Caxias (Jardim Olavo Bilac) S\\u00e3o Jo\\u00e3o de Meriti.\\nGostaria de pedir o aux\\u00edlio as autoridades no bairro Jardim Catarina Novo divisa Sta Luzia  / S\\u00e3o Gon\\u00e7alo RJ o Tr\\u00e1fico de drogas vem instalando barricadas para impedir a entrada de viaturas. Causando transtornos diversos aos moradores. N\\u00e3o \\u00e9 poss\\u00edvel entrada de ve\\u00edculos de assist\\u00eancia m\\u00e9dica e pessoas que precisam se locomover em cadeiras de rodas tem sua vida prejudicada. Nesse Carnaval os bandidos se mantiveram na Olegario Nascimento colocando barricadas pois \\u00e9 pr\\u00f3ximo a St\\u00e1 Luzia eles est\\u00e3o se movimentando de moto a noite toda com armas.Tivemos o caso de um cabeleireiro que foi assassinado por se queixar das barreiras. * Sempre teve barricadas nas Ruas 39 e 40, Hoje estas barricadas j\\u00e1 est\\u00e3o nas Ruas 38 37 36 35 34 33 32 Cada dia est\\u00e1 chegando em dire\\u00e7\\u00e3o a Rua Curva do S. Sta Luzia interligando a outras \\u00e1reas dom\\u00ednio. Por favor 7o BPM fa\\u00e7a opera\\u00e7\\u00c3\\u00b5es para garantir o direito do cidad\\u00e3o de bem!! Os correios n\\u00e3o entregam mais consta como \\u00e1rea de risco. Moro a 20 anos no local sempre houve tr\\u00e1fico na Rua 39 e 40 mas sempre reprimida com valentia pelo 7 Bpm - Hoje as coisas pioraram muito o 7 Bpm precisa dar uma resposta a estes marginais. Por Favor nos Ajudem!!!\\nApartamento bloco Para\\u00edba quinto andar estoca dinheiro do tr\\u00e1fico\\nTraficam todos os dias na rua antonio da silva reis no numero 358, traficam a luz do dia. Obs; as drogas ficam com a mulher de leo (nayara) no peito dela. Pesso a vcs q tragam uma policial mulher para prender esses dois individuos. A algums dias policiais da p2 levaram o carro do casal (golf prata) . Mas nem perceberam q nayara retiro toda a droga e coloco no peito. Traficam na frente de crian\\u00e7as q passam. Acho isso um absurdo! A policia militar passa e nao faz nada. Com essas pessoas traficando aqui q futuro teram nossas crian\\u00e7as crescendo achando q o trafico \\u00e9 o jeito mais facil de se crescer na vida. Entao pesso por favor prendam esses traficantes. \\nTr\\u00e1fico de drogas escancaradamente..Desfilando com armas...Dentro do condom\\u00ednio dom\\u00ednio morada do bracui,o mas intrigante q na entrada existe o IML de Angra dos reis que existe rotatividade de carros d\\u00e1 pol\\u00edcia e mesmo assim ,nada \\u00e9 feito, moradores dizem q os policiais recebem mesada dos traficantes p se fingirem de cegos...Est\\u00e1 escancarado de meliantes drogaria..Vendendo drogas..Andando armados e amea\\u00e7ando moradores e at\\u00e9 barreira na rua principal foi feito\\nSom, volume excesso, show ao vivo, incomodando moradores e interditando a RJ 114 ,por v\\u00e1rias vezes. Os \\u00f3rg\\u00e3os competentes n\\u00e3o tomam provid\\u00eancias, policiais militares envolvidos.\\n5 jovens acabam de sair de pr\\u00e9dio na rua Itagua\\u00ed,110 p\\u00e9 pequeno com destino a praia de Icara\\u00ed portando 2 mochilas cheias de intorpercentes de variados tipos pra vender na praia de Icara\\u00ed provavelmente. Est\\u00e3o todos a p\\u00e9 descendo a rua Dr Paulo C\\u00e9sar nesse exato momento.  1 negro com mochila da okley preta 4 brancos sendo um deles com mochila preta tbm \\u00e9 um de bon\\u00e9 bege, marfim ou branco\\nBoa noite gostaria muito de que esse problema fosse resolvido todos os dias aqui em Iraj\\u00e1 na pra\\u00e7a do \\u00f3nibus 296 ficam muitos homens armado e vendendo drogas e os mesmos ficam na pra\\u00e7a fumando e os moradores n\\u00e3o pode passar se n\\u00e3o eles agridem \\nEste homem pertence a uma quadrilha que falsifica e clona cart\\u00c3\\u00b5es de cr\\u00e9dito e passa nos com\\u00e9rcios locais e supermercados\\nO crime a princ\\u00edpio \\u00e9 de perturba\\u00e7\\u00e3o do sossego. Na rua Engenho d\\u00e1 Rainha,316 ,rua G casa 20,uma pessoa Come\\u00e7ou a vender alguns salgados na porta de sua casa e agora acha que \\u00e9 um bar. P\\u00c3\\u00b5e cadeiras na frente,liga som alto a noite e seus convidados costumam beber al\\u00e9m d\\u00e1 conta, criando algazarra. Os moradores do bairro de Inhauma solicitam que a PM fa\\u00e7a dilig\\u00eancias de surpresa para averiguar o fato.\\nIndiv\\u00edduos armados vendendo drogas na rua Em frente a residencias\\nV\\u00e1rios marginais transitando armados\\nTraficante conhecido como nain usa sua casa como deposito de droga e alicia crian\\u00e7a e adolecente\\nTraficante conhecido como nain usa sua casa como deposito de droga e alicia crian\\u00e7a e adolecente\\nBoca de drogas em area residencial. Mulher vendendo drogas na frente de crian\\u00e7as e fam\\u00edlia. Total desrespeito. \\nE vendida num sobrado disparadamente e tem viaturas d\\u00e1 PM local que TDS sexta ou s\\u00e1bado veem buscar o arego\\nTraficante vendendo drogas  num sobrado no primeiro andar colocaram um port\\u00e3o de ferro trancado pelo traficante para dificultar o acesso. Pol\\u00edcias d\\u00e1 \\u00e1rea pegam o arego. Os usu\\u00e1rios fumando maconha na rua e tem pontos de \\u00f3nibus, restaurante, farm\\u00e1cia. Um absurdo.\\nTem um ponto de trafico de drogas/boca de fumo montada dentro do estacionamento Extra na rua mariz e barros , na tijuca, rio de janeiro, na parte dos fundos. \\nGostaria de pedir aos senhores pois moro na Pca seca onde traficante entram armados e exibindo as mesmas em um condom\\u00ednio na R ua Barao 23 para fazer uso de drogas no estacionamento que fica na segunda portaria isso com o conhecimento da s\\u00edndica geral que n\\u00e3o toma nenhuma atitude\\nTrafico de entorpecentes. Entra e sai de usu\\u00e1rios e traficantes o dia todo.\\nEste homem faz parte de uma quadrilha que falsifica e clona cart\\u00c3\\u00b5es de cr\\u00e9dito\\nCerca de 8 bandidos com pistolas e muita droga e menores vendendo e consumindo e est\\u00e3o amea\\u00e7ando os moradores que se den\\u00fanciar eles v\\u00e3o matar por favor tenho 2 crian\\u00e7as pequenas e estamos apavorados \\nTraficantes agindo a noite no Parque Paulista Duque de Caxias Rj nas ruas 18 com 35\\nBaile funk na comunidade menino de Deus em S\\u00e3o Gon\\u00e7alo RJ com disparo de armas de fogo\\nHomens armados todos os dias 24h na minha porta vendendo drogas segue em anexo as fotos dos bandidos Diego Oliveira Dy bala Mateus kurber Lucas Rog\\u00e9rio souza rodrigo\\nHomens armados todos os dias 24h vendendo drogas \\nHomens armados todos os dias 24h na minha porta vendendo drogas\\nHomens armados todos os dias 24h na minha porta vendendo drogas\\nTr\\u00e1fico de drogas e baile funk ,na rua do col\\u00e9gio Marc\\u00edlio dias\\nInformo que na rua acajutiba lt15 qd143 santa margarida (cosmos).mora um fornecedor de notas falsas de 50 reais e vende (5)cinco notas falsas por 100 reais. O mesmo chama se Tiago paiva. Passou v\\u00e1rias notas falsas nos com\\u00e9rcio de santa margarida,no sacolao,no bazar e etc. Acarretando um enorme preju\\u00edzo aos comerciantes.e tamb\\u00e9m traz drogas de antares e as oferece aos jovens da pr\\u00f3pria rua.fumando maconha o dia todo no seu carro um Ford corcel azul.ele tem uma bolsa de viagem cheia de notas falsas.\\nBoa noite! Vou tentar ser breve. Onde moro esta rolando tr\\u00e1fico e com isso v\\u00e1rios viciados est\\u00e3o na \\u00e1rea aterrorizando os moradores. Nesta manh\\u00e3 teve uma tentativa de roubo na minha resid\\u00eancia. Estamos a merc\\u00ea, presos dentro da pr\\u00f3pria casa e esses vagabundos soltos fazendo o que quer. Nos ajude por favor. Grata! Obs: tentei enviar o v\\u00eddeo da tentativa de assalto a minha casa, das c\\u00c3\\u00a2meras de seguran\\u00e7a e da erro.\\nAqui no alto da boa vista na comunidade do mata machado local exato lixeira d\\u00e1 Comlurb foi montada a tr\\u00eas meses uma boca de fumo,os policiais do PPC comunit\\u00e1rio est\\u00e3o cientes mas n\\u00e3o tomam provid\\u00eancias nenhuma sou nascido aqui e nunca tivemos que ficar a Mercer deles at\\u00e9 um fuzil e pistolas tem no local por favor nos ajuda n\\u00e3o deixe o mata machado virar uma Rocinha d\\u00e1 vida dizem que eles est\\u00e3o migrando do borel para c\\u00e1 por favor se puder vem com viaturas descaracterizada para que n\\u00e3o saiam correndo\\nRolando nesse momento baile funk no complexo da mare mas foi ouvido tiros nesse momento no parque uni\\u00e3o \\nUma mulher  morena  fica sentada  no bar passando  drogas para usu\\u00e1rios,ela esconde as drogas  dentro da calcinha,fica ali todos os dias !!!!\\nImpressionante fiz uma denuncia semana passada (aohxyakzmw) e ate hj nada foi feito a boca de fuma esta aberta desde 9:00 da manha a todo vapor ao lado do samb\\u00f3dromo. Todas as ruas possuem uma viatura parada menos na rua que esta a boca de fumo, consci\\u00eancia? (Kkkkkkk) claro que n\\u00e3o \\u00e9. Isso \\u00e9 uma vergonha, menos de 10 metros do samb\\u00f3dromo, a 100 metros do batalh\\u00e3o de choque, a 200 metros da 6\\u00badp, a 80 metros do cicc( no quintal) e ningu\\u00e9m resolve . \\nEssa mulher  vende drogas em copacabana  ,usa drogas  dentro da cal\\u00e7a pra esconder!\\nBoa tarde.  Existe nas proximidades da rodoviaria novo rio; onde existe debaixo da linha vermelha um ponto de moto taxi conyrolado por fabio do nascimento melo mas conhecido como fabinho; porem ali ele explora os caras que querem trabalhar como moto taxi; e ocorreu de uma vez ele levando drogas para garotas de programa na vila mimosa. E tbm ali sendo ele o controlador dos moto taxi; se dizendo ele o dono daquele ponto; ele se encarrega de comprar nos morros drogas pra pessoais que ali frenquenta e tbm ele usa todo final de semana. Pois ali fica um ponto tbm de transporte para a regiao dos lagos de carros piratas.esse fabinho nao tem cnh; porem foi cassada pela lei seca; por conduzir a moto dele bebado e drogado. E estou fazendo essa denuncia pra vcs ficarem cientes do que ocorre ali nessa mediacao dos moto taxi qie ali se encontra dominado por ele o fabinho. Ele ali transporta mukgeres que trabalham na vila mimosa; se acha o dono do peda\\u00e7o;  e explora esse tipo de transporte pra buscar drogas em favelas pra usuarios.Ele \\u00e9  moreno; estatura normal; tem uns 38 anos e tem tatuagens no braco esquerdo.e ja foi preso. Pe\\u00e7o a vcs autoridades que procedam esta den\\u00fancia.  Pra nosso rio de janeiro melhorar \\nBoa tarde.  Existe nas proximidades da rodoviaria novo rio; onde existe debaixo da linha vermelha um ponto de moto taxi conyrolado por fabio do nascimento melo mas conhecido como fabinho; porem ali ele explora os caras que querem trabalhar como moto taxi; e ocorreu de uma vez ele levando drogas para garotas de programa na vila mimosa. E tbm ali sendo ele o controlador dos moto taxi; se dizendo ele o dono daquele ponto; ele se encarrega de comprar nos morros drogas pra pessoais que ali frenquenta e tbm ele usa todo final de semana. Pois ali fica um ponto tbm de transporte para a regiao dos lagos de carros piratas.esse fabinho nao tem cnh; porem foi cassada pela lei seca; por conduzir a moto dele bebado e drogado. E estou fazendo essa denuncia pra vcs ficarem cientes do que ocorre ali nessa mediacao dos moto taxi qie ali se encontra dominado por ele o fabinho. Ele ali transporta mukgeres que trabalham na vila mimosa; se acha o dono do peda\\u00e7o;  e explora esse tipo de transporte pra buscar drogas em favelas pra usuarios.Ele \\u00e9  moreno; estatura normal; tem uns 38 anos e tem tatuagens no braco esquerdo.e ja foi preso. Pe\\u00e7o a vcs autoridades que procedam esta den\\u00fancia.  Pra nosso rio de janeiro melhorar \\nVcs criam um aplicativo para denuncias e obriga as pessoas a clicar no quadrado informando q n\\u00e3o \\u00e9 de emerg\\u00eancia, \\u00e9 sim de emerg\\u00eancia minhas informa\\u00e7\\u00f5es pois se estou denunciando por aqui,\\u00e9 porque n\\u00e3o confio na policia. Assim como varias pessoas q optam em.denunciar por este aplicativo ou telefone. aohxyakzmw\\nTraficantes do tcp est\\u00e3o traficando livremente no nosso bairro, coagindo a popula\\u00e7\\u00e3o. Praticando assaltos e assassinatos. Nos ajudem. \\nH\\u00e1 uns 2 anos atr\\u00e1s ou mais, foram fechadas as ruas Guarapuava, Geolandia e outras, do bairro de Inhauma e foi criada a Associa\\u00e7\\u00e3o de Moradores do Mangueir\\u00e3o ,com a ajuda da Vereadora Rosa Fernandes. No ano passado um crime foi cometido no local,coisa que nunca havia ocorrido antes : estupro e morte d\\u00e1 adolescente D\\u00e9bora, embora o local seja um terreno f\\u00e9rtil em furtos de energia el\\u00e9trica \\u00e9 \\u00e1gua. Agora os mesmos marginais que fecharam o local est\\u00e3o querendo se apoderar de Vilas pr\\u00f3ximas para ampliarem os seus crimes. Moradores pedem socorro para que isso n\\u00e3o ocorra antes que seja tarde! Regi\\u00e3o precisa de policiamento ostensivo para que isso n\\u00e3o ocorra.\\nMinha denuncua \\u00e9 que joarene Nogueira junior esta no esquema de funeraria em Caixas que envolve muita gente grande e ate policiais e pol\\u00edticos.  O irmao dele delegado da pf marcelo nogueira tambrm esta no esquema. Podem procurar que tem muita coisa errada.\\nPessoas na casa usam local para repasse de drogas e armas\\nA meses a casa funciona com festas e m\\u00fasica eletr\\u00f3nica alta, ficando at\\u00e9 3 dias sem parar e entrando e saindo pessoas, carros sem placa estacionados na rua, gritaria e chingamentos, j\\u00e1 ouve ocasi\\u00e3o de disparo de tiros. A vizinhan\\u00e7a j\\u00e1 entrou em contato e alertou que iria chamar a policia tendo como resposta do propriet\\u00e1rio que policiais frequentavam a casa e n\\u00e3o iria acontecer nada. A vizinhan\\u00e7a est\\u00e1 se reunindo para uma a\\u00e7\\u00e3o na prefeitura, mas a situa\\u00e7\\u00e3o est\\u00e1 cada vez mais insuport\\u00e1vel. Movimento de pessoas suspeitas todo o tempo, m\\u00fasica alta durante dias e durante a semana tamb\\u00e9m, carros suspeitos parados na entrada das casas. Frequentadores j\\u00e1 foram presos por Tr\\u00e1fico de drogas sint\\u00e9ticas. Gostaria de uma investiga\\u00e7\\u00e3o urgente, est\\u00e1 insuport\\u00e1vel viver nessa vizinhan\\u00e7a.\\nTem una barbearia no Caminho das oliveiras ;n\\u00ba4,muitos suspeitos e rola toxico,alem de varias motos sem placas que ficam em frente a barbearia,fica pr\\u00f3ximo a este do Magar\\u00e7a, local chamado de ch\\u00e1cara, f\\u00e1cil acesso,entrando na rua a barbearia \\u00e9 logo vista e v\\u00e1rios rapazes sentado na calcada e as motos en frente,esta deve ser a terceira vez que fa\\u00e7o esta den\\u00fancia, aguardo provid\\u00eancias, obrigado pela aten\\u00e7\\u00e3o.\\nMoradores d\\u00e1 Vila Santa Luzia, est\\u00e3o preocupados com os usu\\u00e1rios de drogas que constantemente tem usado a pra\\u00e7a d\\u00e1 Vila e tamb\\u00e9m a frente d\\u00e1 casa 20 d\\u00e1 rua G ,onde foi posto um local para vender salgados, bebidas e cloro. Usu\\u00e1rios utilizavam o campinho, por\\u00e9m este foi utilizado para construir uma escola p\\u00fablica e desde ent\\u00e3o,passaram a usar a pra\\u00e7a. Necess\\u00e1rio policiamento ostensivo no.local!\\nBoa noite,aqui em sao gon\\u00e7alo no boa\\u00e7u comunidade da 40 os caras agindo livremente e expondo armas pistolas e agora ja tem fuzil,todas as ruas estao cheias de barricadas com com vigas de concreto ,galao no chao e cantoneiras e tubos de ferro as ruas desde da entrada na baixada ate no alto do morro divisa com os bairros da california,mutua,nutuagua\\u00e7u e porto do rosa,vao fechar agora proxima ao asfalto,nao aguentamos essa situa\\u00e7ao,os frentes do morro sao feju e tio bola,as bocas ficam na professora maria nina,rua seis,ramalho monteiro e portela ou buraco da cobra ,\\nMeu vizinho consome drogas a maior parte do dia n\\u00e3o aguento mais esse cheiro de droga!!!  Minha m\\u00e3e \\u00e9 de idade esse cheiro de droga entra em nossa casa minha m\\u00e3e passa mal. Pessoas estranhas se juntam a meu vizinho para essa baderna. Al\\u00e9m disso ainda funciona um dep\\u00f3sito clandestino de comida e bebida dos barraqueiros da passarela da barra. N\\u00e3o sei mas o que fazer !! Socorro ! At\\u00e9 meus cachorros foram amea\\u00e7ados de serem envenenados!!!!!!\\nHomens armados todos os dias 24h na minha porta vendendo drogas\\nHomens armados todos os dias 24h na minha porta vendendo drogas \\nHomens armados todos os dias 24h na minha porta vendendo drogas\\nIndiv\\u00edduos armados vendendo drogas pr\\u00f3ximo a residencias.\\n Traficante fugitivo do sistema prisional vulgo Fernando se encontra escondido na rua Galileia 7 ,senador camar\\u00e1 e o mesmo participa do tr\\u00e1fico  na localidade , inclusive com cobertura da mulher .O mesmo utiliza documentos falsos !os meninos do r\\u00e1dio ficam na esta\\u00e7\\u00e3o ,na costa Braga, no port\\u00e3o no final da rua Galileia. Moradores dessas ruas s\\u00e3o coagidos a deixarem  os port\\u00c3\\u00b5es abertos para eles  evadirem \\nBar localizado no centro de Niter\\u00f3i funciona durante todas as madrugadas, onde existem m\\u00e1quinas e a pratica de jogos de azar ilegais, como ca\\u00e7a-n\\u00edqueis, al\\u00e9m disso h\\u00e1 movimenta\\u00e7\\u00e3o com tr\\u00e1fico e consumo de drogas. Tudo isso pr\\u00f3ximo a pol\\u00edcia federal e do batalh\\u00e3o de pol\\u00edcia da cidade, numa das avenidas mais movimentadas do centro.\\nEm nome dos moradores da rua mariz e barros na tijuca e arredores, venho por meio deste denunciar o trafico de drogas dentro do estacionamento do mercado extra, localizado na rua mariz e barros, na tijuca no rio de janeiro-RJ, que esta sendo acobertado e facilitado pelos profissionais trabalhadores do estacionamento. Os usuarios de drogas ficam pertuebando a ordem publica na rua. \\nEssa pessoa est\\u00e1 ligada ao fluxo de drogas e armas em s\\u00e3o Pedro d\\u00e1 Aldeia na regi\\u00e3o dos lagos. Reside rua Jos\\u00e9 Ant\\u00f3nio de Melo 16 balne\\u00e1rio das conchas. Usa um carro Audi a3 preto com documentos vencidos e multas PLACA LNO 6320 tamb\\u00e9m possui duas motos, uma chave vermelha e uma Suzuki roxa. \\u00e9 usu\\u00e1rio de drogas e anda sendo amea\\u00e7a a familiares. Por morar nesse bairro passa todos os dias em frente ao batalh\\u00e3o d\\u00e1 PM, q fica na rodovia para ir ao centro d\\u00e1 cidade.\\nEst\\u00e1 sendo anunciado q s\\u00e1bado dia 11/03/17, ser\\u00e1 realizado Baile Funk em comemora\\u00e7\\u00e3o ao anivers\\u00e1rio do gerwnte da boca de fumo de nome Decy. Com drogas a vontade e sem deixar os moradores dormirem.\\nOs mesmos arrombam casas , invadem,  ficam vendendo drogas na regiao e estao metidos entre varias outras coisas . Sem contar que pegam vagas de drogas e espalham entre varios pontos da regiao de jacon\\u00e9 e barra nova.  Fezem assaltos na regiao de ponta negra e marica,  trazendo motos e celulares roubados onde os mesmo sao vendido s na regiao de barra nova. \\nTodos os finais de semana ocorre venda de p\\u00e1ssaros silvestres, e os pagamentos s\\u00e3o acerdos e feitos com umas trouxinhas estranhas. O local onde s\\u00e3o armazenados os p\\u00e1ssaros e etc fica ao lado d\\u00e1 casa 33 d\\u00e1 rua Lancastre onde esse vulgo Ronaldinho reside. Passo por esse local todos os finais de semana \\u00e9 \\u00e9 poss\\u00edvel ver a \\\"feira onde acontece essas transa\\u00e7\\u00c3\\u00b5es\\\"\\nTr\\u00e1fico de drogas atr\\u00e1s do col\\u00e9gio Marc\\u00edlio dias ,o que adianta disque denuncia se a pol\\u00edcia n\\u00e3o vem?\\nMuleques em praia de Mau\\u00e1 em grupinhos na rua do imperador e de frente ao poliesportivo vende drogas  apurei por alto O nome de um deles \\u00e9 Rodrigo Moreira Pereira. Estava ficando na Rua do Imperador  Ali tem um ponto e muitos jovens  Quando n\\u00e3o fica um grupo de vinte muleques ficam no ponto de onibus do polioesportivo\\nPr\\u00e9dio invadido na rua Bar\\u00e3o de S\\u00e3o F\\u00e9lix pr\\u00f3ximo N. 82. Boca funciona no 2and, com branquinha e 2 vapores. Um olheiro em fte no lado oposto e dentro da portaria junto a escada um seguran\\u00e7a armado de pistola\\nBoa noite,eu gostaria de denunciar milicianos que est\\u00e3o aterrorizando os moradores da comunidade \\u00e1guia de ouro em inhauma,est\\u00e3o arrombando a casa dos moradores que n\\u00e3o paga a mensalidade da associa\\u00e7\\u00e3o de moradores,batendo e expulsando os moradores de suas pr\\u00f3prias casas se n\\u00e3o pagar a mensalidade.\\nRapaz vendendo notas falsas em redes sociais,segue abaixo perfil do mesmo.. Que absurdo!!! https://www.facebook.com/marcio.jhobe.906 O PODER DA IMPUNIDADE S\\u00f3 AUMENTA....\\nMilicianos est\\u00e3o batendo e expulsando moradores de suas residencia se n\\u00e3o pagar a mensalidade da associa\\u00e7\\u00e3o de moradores d\\u00e1 comunidade \\u00e1guia de ouro em Inha\\u00fama,eles tem total apoio do presidente da associa\\u00e7\\u00e3o de moradores Pedro Borges onde ele pr\\u00f3prio mandou que as cobradoras que v\\u00e3o na resid\\u00eancia dos moradores,pintasse com tinta vermelha a casa das pessoas que paga na associa\\u00e7\\u00e3o e n\\u00e3o pintar,a casa do morador que paga na m\\u00e3o das cobradoras que atualmente \\u00e9 3 mulheres acompanhada de 2 homens armados...Est\\u00e1 um inferno essa comunidade,anoite s\\u00f3 se ver esses marginais de fuzil e metralhadora.\\nAQUI EM MINHA VIZINHAN\\u00c7A TODOS OS DIAS BANDIDOS ATERRORIZAM A COMUNIDADE POIS TRAFICAM,VENDEM REALIZAM VENDAS DE DROGAS TODOS OS DIAS COMO SE VENDESSEM PICOLE E E NADA ESTA SENDO FEITO PELAS AUTORIDADES POLICIAIS NO SENTIDO DE ACABAR COM ISSO...ESSES DESGRA\\u00c7ADOS BEINCAM COM A CARA DA GENTE PULAM O MURO DAS CASAS TODAS AS VEZES QUE RECEBEM AVISO PELOS RADIOS COMUNICADORES DOS COMPARSAS E A POLICIA DAQUI DA LOCALIDADE PARE\\u00c7E QUE ESTA DE COMPLO,POIS ELES NEM VEM AQUI E SE VE. NADA FAZEM,JA HA BOSTOS DE QUE ELES ESTAO COMPRADOS POR ESSES BAMDIDOS DESGRA\\u00c7ADOS POIS ELES SO VEEM AQUI PRA RECEBER O \\\"PAGAMENTO\\\" SEMANAL DELES ...E ESSE DESGRA\\u00c7ADOS AGEM DIA E NOITE AQUI AMEA\\u00c7ANDO OS MORADORES E FICAM EXIBINDO ARMAS ,DANDO TIROS PRO AR...E GRITANDO MACONHA E COCAINA EM PROMO\\u00c7AO,MACONHA E COCAINA EM PROMO\\u00c7AO ABASTECEDO BANDOS DE VICIADOS TODOS OS DIAS DA SEMANA...MAS E TODOS OS DIAS,E APOLICIA DAQUI NADA TEM FEITO PRA ACABAR COM ESSES DEMONIOS QUE VIVEM ARMADOS E SE DIVERTEM COMO SE ESTIVESSEM A BRINCAR COM SUAS ARMAS NA CERTEZA ABSOLUTA DE PLENA SEGURAN\\u00c7A POIS ELES TEM A POLICIA DAQUI EM ABSOLUTO CONTROLA POIS ESSSES POLICIAIS AGEM SOB PLENO SUBORNO POIS JA SABEM O QUE ACONTECE AQUI NA COMUNIDADE E NAO TOMAM PROVIDENCIAS E NAO ESTAO AGINDO COMO POLICIAIS NE COMK AUTORIDADES PRA ACABAR COM ISSO ELES PARECEM INCENTIVAR QUE ISSO CRES\\u00c7A MAIS E MAIS...POIS COMO JA RELATADO ELES ENTRAM AQUI NA COMUNIDADE DE MANHA E A TARDE E A NOITE TODOS OS DESGRA\\u00c7ADOS ESTAO AQUI NOVAMENTE DANDO SEUS TIROS E SOLTANDO FOGOS DE ARTIFICIOS EM PLENO DIA E NOITE E ENTRAM COM A \\\"FESTA\\\" PELA MADRUGADA A FORA TODOS OS DIAS DA SEMANA AS 24 HORAS DO DIA E DA NOITE...EU IMPLORO E PE\\u00c7O PELO AMOR DE DEUS MANDEM PRA O BOPE PRA ACABAR COM ESSES DESGRA\\u00c7ADOS DE UMA VEZ POR TODAS...\\\"PELO AMOR DE DEUS\\\"...ACABEM COM ESSES DESGRA\\u00c7ADOS!!!\\nN\\u00e3o tenho muitas informa\\u00e7\\u00f5es, mas o condutor do carro modelo Siena prata lkq9217,est\\u00e1 com atitudes suspeitas de Tr\\u00e1fico de drogas.\\nHomens armados todos os dias 24h na minha porta\\nH\\u00e1 na Rua Bias Fortes, em frente ao n\\u00famero 51 (casa que fica entre uma igreja e uma cl\\u00ednica de fisioterapia) um ponto de uso de drogas. Desconfio que os entorpecentes ficam guardados na referida casa que funciona tamb\\u00e9m como dep\\u00f3sito de mercadorias de camel\\u00f3s. Todos os dias ao passar observo pessoas utilizando drogas sentados em um banco de cimento constru\\u00eddo ao redor das \\u00e1rvores que ficam na cal\\u00e7ada da referida casa. Ressalto que todos os dias h\\u00e1 consumo de drogas no local. Pe\\u00e7o sigilo acerca da minha identidade. H\\u00e1 tamb\\u00e9m uma pra\\u00e7a que fica no final da referida rua, onde o Tr\\u00e1fico de drogas \\\"rola solto\\\" todos os dias.  \\nMais uma vez venho pedir ajuda, s\\u00e3o 16:31 e a prostitui\\u00e7\\u00e3o e uso de drogas rolando solto em plena luz do dia.  Rua residencial virou ponto de prostitui\\u00e7\\u00e3o, onde mulheres ficam usando drogas, mostrando os seios e gritando palavras obscenaas.\\nDuas barricadas na Rua doutor Lucio,entre as ruas iara e sangento Jorge monsores. Tendo baile funk nessa \\u00e1rea as  sextas com um grande contingente  de bandidos  altamente  armados, tendo at\\u00e9  um considerado n\\u00famero de fuzis \\nEstava tranquilamente revisando a minha timeline no Facebook quando me deparei com um rapaz vendedo notas falsificadas no grupo \\\"Joga pra Rolo Realengo\\\" e decidi denunciar para que outras pessoas n\\u00e3o se prejudique com o ato desse rapaz.\\nUsu\\u00e1rios de drogas fumando na \\u00e1rea comum do pr\\u00e9dio\\ncarro do gerente do trafico do morro do s\\u00e3o jo\\u00e3o , no engenho novo, vulgo portugal , moreno com tatuagens no bra\\u00e7o \\nBoa noite! Um Siena da cor prata,placa lkq9217,anda por a\\u00ed arriscando a vida das pessoas, dirigindo alcoolizado e visivelmente drogado,j\\u00e1 vi por diversas vezes o condutor dirigindo em alta velocidade enquanto estava embreagado e drogado,faz isso sempre! Ele est\\u00e1 arriscando vidas, dirigindo dessa forma,por favor, tomem provid\\u00eancia!\\nSou morador da rua monteiro da silva em guadalupe atr\\u00e1s do shoping e estou sendo amea\\u00e7ada pelo vendedor de Gas guto, juntamente com seus compar\\u00e7as por que nao quero comprar Gas com ele Eu e todos do bairro , ele esta junto com um pastor chamado Reginaldo que traz carga roubado do chapa d\\u00e3o e  estao fechando aqui tudo e amea\\u00e7ando os moradores que nao comprar com eles\\nTraficando na rua na cara dura,  invadindo casas para roubar.  Riu e furto de celulares em baca x\\u00e1  e jacone e na vila.  Aliciacao de menonres de idade em jacone , pois colocam cargas na mao deles na paradaria do pedra na rua 13 proximo ao dpo. \\nAmassada por ter comprado g\\u00e1s sem ser com o Guto ele paga um motot\\u00e1xi que chamam de rato e fica abordando moradores e avisa Que g\\u00e1s agora tem dono e se comprar fora ele vai botar fogo na casa ele est\\u00e1 envolvido com um tal pastor Reginaldo e pitter que  S\\u00e3o do chapad\\u00e3o mais aqui n\\u00e3o \\u00e9 comunidade \\nReceberam grande carga de drogas, dois tabletes de maconha, meio kilo de crack e meio kilo de cocaina. Estao com duas pistolas-uma 380 e outra nao sei mas tem um pente de trinta. Traficam o dia todo na rua antonio da silva reis, numero 358.nao respeitam trabalhadores e nem crian\\u00e7as q sao obrigadas a presenciar esse absurdo! Pms passam mas nao fazem nada!  \\nHomens armados todos os dias 24h na minha porta vendendo drogas\\nHomens armados todos os dias 24h na minha porta vendendo drogas\\nV\\u00e1rios bandidos fortemente armados no parque uni\\u00e3o complexo da mar\\u00e9 pronto para invadir baixar do sapateiro \\n tr\\u00e1fico de droga Mateus olivira. Est\\u00e3o buscando na favela do acari\\nBoa noite,quanto mas eu denuncio mas aparece milicianos vagabundo na comunidade que eu moro,j\\u00e1 tem dois indiv\\u00edduos armados pr\\u00f3ximo ao mercadinho do Guilherme neste momento!Na comunidade do guarda est\\u00e1 infestado de milicianos e ficam varios  dentro do brisolao e no brisolinha tudo armado,pior \\u00e9 que se sentem os donos do peda\\u00e7o! fa\\u00e7am alguma coisa porque eles vivem cobrando taxas que o morador n\\u00e3o tem que pagar mas \\u00e9 obrigado a pagar sen\\u00e3o apanha e \\u00e9 expulsos de suas pr\\u00f3prias casa...a comunidade \\u00e1guia de ouro est\\u00e1 pedindo socorro.\\nTraficante do mau causa terror a moradores da localidade. Humilha e aterroriza. Pol\\u00edcia entra s\\u00f3 para pegar dinheiro.  \\nElementos vendendo drogas no bar s qiLquer hora filho da propriet\\u00e1ria envolvido!!!\\nSou morador e n\\u00e3o d\\u00e1 mais p conviver c isso.olha o q acabei de ver d\\u00e1 minha janela.onde pago 2000 de condom\\u00ednio,em um 3 quartos.na rua prado J\\u00fanior num 37.da p viver assim?Ele entrega TD droga pr\\u00f3s comparsas... Inadinissivel!!! Em plena Copacabana...\\nTr\\u00e1fico ao ar livre...Sem limites.inadimissivel!! Copacabana...Prado junior.quadra d\\u00e1 praia.o metro quadrado mais caro de Copacabana....\\nTraficantes continua aterrorizando moradores no bairro roseiral\\nAlunos est\\u00e3o usando drogas no interio do col\\u00e9gio, tamb\\u00e9m sobem a comunidade ao lado para comprar drogas,no hor\\u00e1rio que deveriam estar em aula,mas isso ocorre devido o port\\u00e3o est\\u00e1 aberto o tempo todo,podendo assim at\\u00e9 traficantes se infiltrar entre alunos.\\nTraficantes fortemente armados tem causado p\\u00e2nico nos moradores. Eles est\\u00e3o vendendo drogas no beco ao lado do n\\u00famero 9 e ao longo da ladeira do livramento/Gamboa/RJ, fazem rondas intimidando moradores. Ficam exibindo armas durante o dia e a noite. Na ladeira n\\u00e3o havia este tipo de problema, Come\\u00e7ou no final do ano devido a falta de policiamento no local. Descem pela ladeira armados e de moto para andar na rua Sacadura Cabral. Geralmente s\\u00e3o entre 3 a 10 traficantes.\\n H\\u00e1 mais ou menos 3 meses aqui No Bairro de Anchieta,na Rua Faustino Lins, pr\\u00f3ximo a escada que da acesso ao parque esperan\\u00e7a, dois menores de idade aparentando ter entre 10 e 14 anos de idade, morenos claros sendo um de cabelo loiro e o outro de cabelo preto ficam na porta dos moradores vendendo e embalando drogas e impedindo o ir e vir dos moradores do local. Os mesmos j\\u00e1 s\\u00e3o antigos na localidade e n\\u00e3o possuem arma de fogo. Os mesmos ficam escondendo os entorpecentes nos muros dos moradores, nos canos de passagem de \\u00e1gua que ficam na rampa de garagem dos moradores beirando os paralelep\\u00edpedos, e tamb\\u00e9m em cima do muro dos moradores. Alguns moto taxistas que trabalham na localidade tamb\\u00e9m participam dessa pr\\u00e1tica il\\u00edcita carregando em baixo do banco das suas motosentorpecentes em grandes quantidades. pedimos a colabora\\u00e7\\u00e3o das autoridades competentes para nos ajudar a resolver esse fato o mais r\\u00e1pido possivel desde j\\u00e1 agrade\\u00e7o.\\nBoa tarde,  Hoje, dia 09/03 durante a madrugada, traficantes come\\u00e7aram a perfurar o asfalto da rua major Augusto cesar, em engenheiro belford.  J\\u00e1 existem mais duas ruas completamente perfuradas ( em anexo mapa) e com mais essa eles complemente fecharam parte do bairro no qual ir\\u00e1 implicar na n\\u00e3o circula\\u00e7\\u00e3o de carros, coleta de lixo e outros servicos.  Esse major, est\\u00e1 feito pela metade, Provalvemtne amanh\\u00e3 terminarao.  Precisamos da pol\\u00edcia e da prefeitura pra tapar e os carros voltarem a circular \\nTraficantes est\\u00e3o aterrorizando moradores\\nOl\\u00e1 venho por meio desta para informar o Tr\\u00e1fico de drogas na Covanca, condom\\u00ednio 850 j\\u00e1 fiz in\\u00fameros chamados para 190 sendo que n\\u00e3o adianta de nada espero que por aqui tomen alguma provid\\u00eancia pois n\\u00e3o aguento mais esses filhos de uma m\\u00e3e para n\\u00e3o falar outra coisa vender drogas no meu port\\u00e3o desde j\\u00e1 agrade\\u00e7o a aten\\u00e7\\u00e3o boa noite \\nHomens armados todos os dias 24h na minha porta vendendo drogas\\nHomens armados todos os dias 24h na minha porta vendendo drogas\\nBom dia, n\\u00f3s cansamos de avisar e pior aconteceu, os bandidos da comunidade do muqui\\u00e7o colocaram uma boca de fumo aqui na travessa Santo Ant\\u00f3nio em marechal Hermes. A boca fica na reta de Deodoro, quem fica l\\u00e1 eno bandido de nome wesley vulgo \\\"russilho\\\" tamb\\u00e9m chamado de \\\"russ\\u00e3o\\\", ele \\u00e9 foragido do sistema carcer\\u00e1rio. O mais engra\\u00e7ado \\u00e9 que ninhada viatura vai ao local para prender esse bandido que est\\u00e1 aterrorizando a nossa rua. Pedimos ao comandante do 9 batalh\\u00e3o que nos ajude a prender esse bandido. Segue a foto o bandido e o branquinho da direita de blusa branca e bermuda azul.\\nBandidos da comunidade do muqui\\u00e7o est\\u00e3o fugindo pela travessa Santo Ant\\u00f3nio em marechal Hermes, quando a pol\\u00edcia entra na comunidade. Eles passam correndo com armas na m\\u00e3o. E a pol\\u00edcia n\\u00e3o prende eles. E s\\u00f3 ficar aqui na rua. N\\u00e3o \\u00e9 poss\\u00edvel que o comandante do 9 batalh\\u00e3o nunca tomou conhecimento do que acontece aqui em nossa rua porque nada \\u00e9 feito. Ningu\\u00e9m v\\u00ea viatura aqui estamos abandonados. Agora colocaram uma boca de fumo na reta de Deodoro que fica no final da nossa rua. E nada foi feito para prender o bandido de vulgo russinho que \\u00e9 foragindo da justi\\u00e7a o nome dele \\u00e9 wesley ele \\u00e9 esse da foto de camisa branca e bermuda azul. Ele desfila de moto e armado sem ser incomodado, tudo isso porque nossas den\\u00fancias n\\u00e3o foram ouvidas. Cansamos de avisar que isso aconteceria mais nada foi feito.\\nTrafico de drogas perturbando moradores e incr\\u00edvel como a policia n\\u00e3o vem aqui uma meia d\\u00fazia de molekes com armas velhas enferrujadas perturbando moradores rua sem sa\\u00edda por favor pe\\u00e7a ao pessoal do 12\\u00cbdar uma dura aqui na rua 21 no final da rua no engenho do mato  Tem uma moto popi amarela que do gerente da boca ele anda livremente aqui com um revolver na cintura intimidando todos e um muleke magrinho mais ou menos 1.70 branco cabelo baixinho preto eles ficam muito na casa numero 12 da rua 21 (final da rua e mais afrente no final da rua se costumam come\\u00e7ar o movimento as 11.00hs\\n\",\n",
      "  \"result\": {\n",
      "    \"PESSOA\": [\n",
      "      \"foragido do sistema\",\n",
      "      \"propriet\\u00e1rio\",\n",
      "      \"alunos\",\n",
      "      \"Vila Santa Luzia\",\n",
      "      \"a pol\\u00edcia\",\n",
      "      \"fam\\u00edlia\",\n",
      "      \"Homens armados\",\n",
      "      \"mulher\",\n",
      "      \"2 homens armados\",\n",
      "      \"expulsando\",\n",
      "      \"DESGRA\\u00c7ADOS\",\n",
      "      \"gente\",\n",
      "      \"vez\",\n",
      "      \"s\\u00edndica geral\",\n",
      "      \"para\",\n",
      "      \"BAMDIDOS\",\n",
      "      \"\\\"russ\\u00e3o\\\"\",\n",
      "      \"seguran\\u00e7a armado\",\n",
      "      \"milicianos\",\n",
      "      \"  Minha m\\u00e3e\",\n",
      "      \"3 mulheres\",\n",
      "      \"2 crian\\u00e7as\",\n",
      "      \"O\",\n",
      "      \"pitter\",\n",
      "      \"vinte muleques\",\n",
      "      \".\\nEst\\u00e1 sendo anunciado\",\n",
      "      \"AUTORIDADES POLICIAIS\",\n",
      "      \"Hugo Freitas\",\n",
      "      \"pessoa\",\n",
      "      \"Tiago paiva\",\n",
      "      \"Ronaldinho\",\n",
      "      \"adolecente\",\n",
      "      \"cobradoras\",\n",
      "      \"respons\\u00e1vel\",\n",
      "      \"policial\",\n",
      "      \"Rodrigo Moreira Pereira\",\n",
      "      \"\\\"\",\n",
      "      \"meia d\\u00fazia de molekes\",\n",
      "      \"Bandidos da comunidade\",\n",
      "      \"jovens\",\n",
      "      \"5 jovens\",\n",
      "      \"gerente da boca\",\n",
      "      \"droga entra\",\n",
      "      \"rio de janeiro-RJ\",\n",
      "      \"russinho\",\n",
      "      \"sociais\",\n",
      "      \"morenos\",\n",
      "      \"garotas de programa\",\n",
      "      \"na\",\n",
      "      \"Mateus kurber\",\n",
      "      \"fabio do nascimento melo\",\n",
      "      \"guto\",\n",
      "      \"Guilherme\",\n",
      "      \"bandidos \",\n",
      "      \"usu\\u00e1rios\",\n",
      "      \"marcelo nogueira\",\n",
      "      \"dia\",\n",
      "      \"traficantes\",\n",
      "      \"e\",\n",
      "      \"Mulher\",\n",
      "      \"moto taxi\",\n",
      "      \"usuarios de drogas\",\n",
      "      \"Alunos\",\n",
      "      \"gerente\",\n",
      "      \"no 2and\",\n",
      "      \"como varias\",\n",
      "      \"homem\",\n",
      "      \"parados\",\n",
      "      \"Este homem\",\n",
      "      \"barbearia\",\n",
      "      \"Fernando\",\n",
      "      \"joarene Nogueira junior\",\n",
      "      \"noite\",\n",
      "      \"marginais\",\n",
      "      \"moradores\",\n",
      "      \"aohxyakzmw\",\n",
      "      \"anivers\\u00e1rio\",\n",
      "      \"1 negro\",\n",
      "      \"bandido\",\n",
      "      \"Diego Oliveira\",\n",
      "      \"aguento mais\",\n",
      "      \"fabinho\",\n",
      "      \"alto O\",\n",
      "      \"Pedro Borges\",\n",
      "      \"Milicianos\",\n",
      "      \"caras\",\n",
      "      \"vendendo\",\n",
      "      \"Pr\\u00e9dio\",\n",
      "      \"mulher de leo\",\n",
      "      \"Traficante\",\n",
      "      \"4 brancos\",\n",
      "      \"tendo\",\n",
      "      \"e barros\",\n",
      "      \"morador\",\n",
      "      \"bandidos da comunidade\",\n",
      "      \"portugal\",\n",
      "      \"moto taxistas\",\n",
      "      \"rodrigo\",\n",
      "      \"wesley\",\n",
      "      \"Vereadora Rosa Fernandes\",\n",
      "      \"Guto\",\n",
      "      \"branquinho\",\n",
      "      \"Lucas Rog\\u00e9rio\",\n",
      "      \"minha m\\u00e3e\",\n",
      "      \"Rapaz\",\n",
      "      \"traficante\",\n",
      "      \"Pol\\u00edcias\",\n",
      "      \"Minha denuncua \\u00e9\",\n",
      "      \"Traficantes\",\n",
      "      \"V\\u00e1rios marginais\",\n",
      "      \"Meu vizinho\",\n",
      "      \"a\",\n",
      "      \"wesley vulgo \\\"russilho\\\"\",\n",
      "      \"Indiv\\u00edduos\",\n",
      "      \"minha resid\\u00eancia\",\n",
      "      \"usu\\u00e1rio de drogas\",\n",
      "      \"muita\",\n",
      "      \"Elementos\",\n",
      "      \"policiais\",\n",
      "      \"seus\",\n",
      "      \"na minha\",\n",
      "      \"multas PLACA LNO\",\n",
      "      \"Usu\\u00e1rios de drogas\",\n",
      "      \"homens armado\",\n",
      "      \"que\",\n",
      "      \"dele delegado\",\n",
      "      \"sem\",\n",
      "      \"crian\\u00e7a\",\n",
      "      \"os meninos do r\\u00e1dio\",\n",
      "      \"nayara\",\n",
      "      \"amea\\u00e7ados de\",\n",
      "      \"Pms\",\n",
      "      \"drogas\",\n",
      "      \"V\\u00e1rios bandidos\",\n",
      "      \"bandidos\",\n",
      "      \"a ajuda da\",\n",
      "      \"Frequentadores\",\n",
      "      \"Pereira.\",\n",
      "      \"moreno\",\n",
      "      \"compar\\u00e7as\",\n",
      "      \"donos do peda\\u00e7o\",\n",
      "      \"de\",\n",
      "      \"morte\",\n",
      "      \"Reginaldo\",\n",
      "      \"cidad\\u00e3o de bem\",\n",
      "      \"em grupinhos na\",\n",
      "      \"aguardo\",\n",
      "      \"da\",\n",
      "      \"de idade\",\n",
      "      \"Moradores\",\n",
      "      \"dois individuos\",\n",
      "      \"Mateus olivira\",\n",
      "      \"usuarios\",\n",
      "      \"crian\\u00e7as\",\n",
      "      \"indiv\\u00edduos armados\",\n",
      "      \"Decy\",\n",
      "      \"ramalho monteiro\",\n",
      "      \"8 bandidos\",\n",
      "      \"Indiv\\u00edduos armados\",\n",
      "      \"vagabundos\",\n",
      "      \"Dy bala\",\n",
      "      \"meliantes\",\n",
      "      \"cabeleireiro\",\n",
      "      \"Uma mulher  morena\",\n",
      "      \"pessoas\",\n",
      "      \"  na localidade ,\",\n",
      "      \"souza\",\n",
      "      \"Muleques\",\n",
      "      \"filho da propriet\\u00e1ria\",\n",
      "      \"um muleke magrinho\",\n",
      "      \"Agora\",\n",
      "      \"se n\\u00e3o\",\n",
      "      \"meu vizinho\",\n",
      "      \"Pol\\u00edcia\",\n",
      "      \"Pessoas\",\n",
      "      \"em\",\n",
      "      \"D\\u00e9bora\"\n",
      "    ],\n",
      "    \"LOCAL\": [\n",
      "      \"Vila Santa Luzia\",\n",
      "      \"Rua Curva do S. Sta Luzia\",\n",
      "      \"tijuca\",\n",
      "      \"bairros da california\",\n",
      "      \"avenidas\",\n",
      "      \"com\\u00e9rcio de santa margarida\",\n",
      "      \"Inha\\u00fama\",\n",
      "      \"pra\\u00e7a d\\u00e1 Vila e tamb\\u00e9m\",\n",
      "      \", obrigado pela\",\n",
      "      \"comunidade do mata machado\",\n",
      "      \"estao metidos entre\",\n",
      "      \"rua Lancastre\",\n",
      "      \"a residencias\",\n",
      "      \"sao gon\\u00e7alo\",\n",
      "      \"brisolinha\",\n",
      "      \"comunidade\",\n",
      "      \"feju e tio\",\n",
      "      \"dono\",\n",
      "      \"baixar do sapateiro\",\n",
      "      \"Pca seca\",\n",
      "      \"muqui\\u00e7o\",\n",
      "      \"Boa noite,\",\n",
      "      \"rua antonio da silva reis\",\n",
      "      \"vizinhan\\u00e7a.\\nTem una\",\n",
      "      \"porto do rosa\",\n",
      "      \",as\",\n",
      "      \"favelas\",\n",
      "      \"rua monteiro da silva\",\n",
      "      \"barra nova\",\n",
      "      \"RJ\",\n",
      "      \"AUMENTA\",\n",
      "      \"ruas iara e sangento Jorge monsores\",\n",
      "      \"maria\",\n",
      "      \"area residencial\",\n",
      "      \"os bairros da\",\n",
      "      \"campinho\",\n",
      "      \"Duque de Caxias\",\n",
      "      \"casa 20 d\\u00e1 rua G\",\n",
      "      \"Iraj\\u00e1\",\n",
      "      \"rua do col\\u00e9gio Marc\\u00edlio dias\",\n",
      "      \"divisa\",\n",
      "      \"morada do bracui\",\n",
      "      \"com umas\",\n",
      "      \"100 metros do batalh\\u00e3o de choque\",\n",
      "      \"rio de janeiro-RJ\",\n",
      "      \"Inhauma\",\n",
      "      \"rua Engenho d\\u00e1 Rainha,316 ,rua G casa 20,uma\",\n",
      "      \"complexo da mar\\u00e9\",\n",
      "      \"pra\\u00e7a do \\u00f3nibus 296\",\n",
      "      \"Rocinha\",\n",
      "      \"inhauma\",\n",
      "      \"Mau\\u00e1\",\n",
      "      \"engenho novo\",\n",
      "      \"vila mimosa\",\n",
      "      \"outras coisas\",\n",
      "      \"ponta negra\",\n",
      "      \"rua Bar\\u00e3o de S\\u00e3o F\\u00e9lix\",\n",
      "      \"morro sao feju e tio bola\",\n",
      "      \"condom\\u00ednio na R ua Barao 23\",\n",
      "      \"balne\\u00e1rio das conchas\",\n",
      "      \"professora maria nina,rua seis,ramalho monteiro e portela ou buraco da cobra\",\n",
      "      \"borel\",\n",
      "      \"do\",\n",
      "      \"rua Itagua\\u00ed,110\",\n",
      "      \"a praia de Icara\\u00ed\",\n",
      "      \"S\\u00e3o Gon\\u00e7alo RJ\",\n",
      "      \"Niter\\u00f3i\",\n",
      "      \"copacabana \",\n",
      "      \"comunidade da 40\",\n",
      "      \"guadalupe\",\n",
      "      \"marica\",\n",
      "      \"200 metros da 6\\u00badp\",\n",
      "      \"Magar\\u00e7a\",\n",
      "      \"s\\u00e3o Pedro d\\u00e1 Aldeia\",\n",
      "      \"jacone\",\n",
      "      \"barbearia\",\n",
      "      \"s\\u00e3o coagidos a\",\n",
      "      \"parque esperan\\u00e7a\",\n",
      "      \"rua no engenho do mato\",\n",
      "      \"O PODER DA IMPUNIDADE\",\n",
      "      \"Tr\\u00e1fico de drogas\",\n",
      "      \"RJ 114\",\n",
      "      \"S\\u00e3o Gon\\u00e7alo\",\n",
      "      \"Bairro de Anchieta\",\n",
      "      \"Jardim Olavo Bilac\",\n",
      "      \"Angra dos reis\",\n",
      "      \"rua acajutiba lt15 qd143 santa margarida\",\n",
      "      \"Caixas\",\n",
      "      \"passarela da barra\",\n",
      "      \"baca x\\u00e1\",\n",
      "      \"rua Galileia\",\n",
      "      \"chapad\\u00e3o\",\n",
      "      \"Ruas 38 37 36 35 34 33 32\",\n",
      "      \"rua 13\",\n",
      "      \"boa\\u00e7u\",\n",
      "      \"Rua 39 e 40\",\n",
      "      \"Rua doutor Lucio\",\n",
      "      \",nao aguentamos essa situa\\u00e7ao,\",\n",
      "      \"Deodoro\",\n",
      "      \"Gamboa\",\n",
      "      \"bairro roseiral\",\n",
      "      \"alto da boa vista\",\n",
      "      \"rua Sacadura Cabral\",\n",
      "      \"regiao de jacon\\u00e9 e barra nova\",\n",
      "      \"Traficante fugitivo\",\n",
      "      \"da cidade, numa\",\n",
      "      \"de 10 metros do samb\\u00f3dromo\",\n",
      "      \"rua Dr Paulo C\\u00e9sar\",\n",
      "      \"mata machado\",\n",
      "      \"foram fechadas as ruas\",\n",
      "      \"regi\\u00e3o dos lagos\",\n",
      "      \"vila\",\n",
      "      \",rua seis\",\n",
      "      \"comunidade menino de Deus\",\n",
      "      \"rua mariz e barros\",\n",
      "      \"Copacabana\",\n",
      "      \"a ordem publica na\",\n",
      "      \"S\\u00e3o Jo\\u00e3o de Meriti\",\n",
      "      \"baixada ate no\",\n",
      "      \"praia de Icara\\u00ed\",\n",
      "      \"ligada ao fluxo de drogas e armas em s\\u00e3o\",\n",
      "      \"parque uni\\u00e3o\",\n",
      "      \"entre\",\n",
      "      \"esquema\",\n",
      "      \"rio de janeiro\",\n",
      "      \"Caminho das oliveiras ;n\\u00ba4,muitos\",\n",
      "      \"mutua\",\n",
      "      \"Rua Faustino Lins\",\n",
      "      \"tubos\",\n",
      "      \"samb\\u00f3dromo\",\n",
      "      \"linha vermelha\",\n",
      "      \"nutuagua\\u00e7u\",\n",
      "      \"de frente ao\",\n",
      "      \"Olegario Nascimento\",\n",
      "      \"se\",\n",
      "      \"da portaria junto a\",\n",
      "      \"senador camar\\u00e1\",\n",
      "      \"engenheiro belford\",\n",
      "      \"rua prado J\\u00fanior\",\n",
      "      \"comunidade \\u00e1guia de ouro\",\n",
      "      \"comunidade do guarda\",\n",
      "      \"marechal Hermes\",\n",
      "      \"ruas Guarapuava, Geolandia e outras\",\n",
      "      \"Ruas 39 e 40\",\n",
      "      \"rua major Augusto cesar\",\n",
      "      \"passa todos os\",\n",
      "      \"a 80 metros do cicc(\",\n",
      "      \"H\\u00e1 na Rua\",\n",
      "      \"Marc\\u00edlio dias ,\",\n",
      "      \"Covanca\",\n",
      "      \"ficam na\",\n",
      "      \"rua Galileia 7\",\n",
      "      \"por meio deste denunciar\",\n",
      "      \"ponto e muitos jovens \",\n",
      "      \"de\",\n",
      "      \"tijuca e arredores\",\n",
      "      \"brisolao\",\n",
      "      \"rua mariz e barros ,\",\n",
      "      \"rua do imperador\",\n",
      "      \"bairro de Inhauma\",\n",
      "      \"um dep\\u00f3sito clandestino\",\n",
      "      \"complexo da mare\",\n",
      "      \"antares\",\n",
      "      \"regiao dos lagos\",\n",
      "      \".O mesmo\",\n",
      "      \"do r\\u00e1dio\",\n",
      "      \"bloco Para\\u00edba\",\n",
      "      \"Rua do Imperador\",\n",
      "      \"um\",\n",
      "      \"rodoviaria novo rio\",\n",
      "      \"rua Jos\\u00e9 Ant\\u00f3nio de Melo 16\",\n",
      "      \"favela do acari\",\n",
      "      \"vagas de drogas e\",\n",
      "      \"costa Braga\",\n",
      "      \"usu\\u00e1rios de drogas\",\n",
      "      \". \\nEssa\",\n",
      "      \"travessa Santo Ant\\u00f3nio\",\n",
      "      \"morro do s\\u00e3o jo\\u00e3o\",\n",
      "      \"Jardim Catarina Novo divisa Sta Luzia\",\n",
      "      \"Prado junior.quadra\",\n",
      "      \"baixada\",\n",
      "      \"Parque Paulista Duque de Caxias Rj nas ruas 18 com 35\",\n",
      "      \"ostensivo no.local\",\n",
      "      \"ladeira do livramento\",\n",
      "      \"dentro do estacionamento\",\n",
      "      \"outras, do\"\n",
      "    ],\n",
      "    \"ORG\": [\n",
      "      \"APOLICIA\",\n",
      "      \"associa\\u00e7\\u00e3o de moradores\",\n",
      "      \"dpo\",\n",
      "      \"Extra\",\n",
      "      \"cicc\",\n",
      "      \"irmao\",\n",
      "      \"de suas residencia\",\n",
      "      \"POLICIA\",\n",
      "      \"policiamento\",\n",
      "      \"movimenta\\u00e7\\u00e3o com tr\\u00e1fico e consumo\",\n",
      "      \"e\",\n",
      "      \"pf\",\n",
      "      \"batalh\\u00e3o d\\u00e1 PM\",\n",
      "      \"pol\\u00edcia federal\",\n",
      "      \"9 batalh\\u00e3o\",\n",
      "      \"7 Bpm\",\n",
      "      \"Comlurb\",\n",
      "      \"7o BPM\",\n",
      "      \"!!!\",\n",
      "      \"foi criada a Associa\\u00e7\\u00e3o de\",\n",
      "      \"onde\",\n",
      "      \"Traficantes\",\n",
      "      \"correios\",\n",
      "      \"pol\\u00edcia\",\n",
      "      \"que est\\u00e3o aterrorizando\",\n",
      "      \"os finais de\",\n",
      "      \"IML\",\n",
      "      \", al\\u00e9m\",\n",
      "      \"policia\",\n",
      "      \"autoridades competentes\",\n",
      "      \"PPC comunit\\u00e1rio\",\n",
      "      \"Associa\\u00e7\\u00e3o de Moradores do Mangueir\\u00e3o\",\n",
      "      \"p2\",\n",
      "      \"tijuca e\",\n",
      "      \"e anda sendo\",\n",
      "      \"col\\u00e9gio Marc\\u00edlio dias\",\n",
      "      \"Regi\\u00e3o\",\n",
      "      \"se\",\n",
      "      \"PM\",\n",
      "      \"batalh\\u00e3o de pol\\u00edcia da cidade\",\n",
      "      \"escola p\\u00fablica\",\n",
      "      \"6\\u00badp\",\n",
      "      \"policiais militares\",\n",
      "      \"tcp\",\n",
      "      \"carros d\\u00e1 pol\\u00edcia\",\n",
      "      \"prefeitura\",\n",
      "      \"policia militar\"\n",
      "    ]\n",
      "  }\n",
      "}\n"
     ]
    },
    {
     "data": {
      "text/plain": [
       "{'document_name': 'teste-ViolenciaDomestica.json',\n",
       " 'text': 'Um rapaz que se chama Mailcon, ele usa drogas está espancando a mãe sempre. Ele não trabalho e a mãe é uma senhora de mais de sessenta anos. O nome da mãe é Zeneide que sofre maus tratos. ',\n",
       " 'result': {'PESSOA': ['Mailcon', 'ele', 'Zeneide']}}"
      ]
     },
     "execution_count": 18,
     "metadata": {},
     "output_type": "execute_result"
    }
   ],
   "source": [
    "print(json.dumps(results[0], indent=2))\n",
    "{\n",
    "  \"document_name\": \"teste-ViolenciaDomestica.json\",\n",
    "  \"text\": \"Um rapaz que se chama Mailcon, ele usa drogas está espancando a mãe sempre. Ele não trabalho e a mãe é uma senhora de mais de sessenta anos. O nome da mãe é Zeneide que sofre maus tratos. \",\n",
    "  \"result\": {\n",
    "    \"PESSOA\": [\n",
    "         'Mailcon',\n",
    "         'ele',\n",
    "          'Zeneide'\n",
    "         ]\n",
    "  }\n",
    "}"
   ]
  },
  {
   "cell_type": "code",
   "execution_count": 19,
   "metadata": {
    "id": "Jh25VgmbH3pc"
   },
   "outputs": [
    {
     "name": "stdout",
     "output_type": "stream",
     "text": [
      "{\n",
      "  \"document_name\": \"TraficodeDrogasArmas.txt\",\n",
      "  \"text\": \"Boa noite todos os dias a noite jovens usam drogas sem nenhum pudor aos vizinhos nesses endere\\u00e7os a\\u00ed. Hugo Freitas fiquei sabendo que esse Hugo Freitas esconde as drogas dentro da mochila em casa. Esse \\u00e9 o respons\\u00e1vel pela compra das drogas e consumo entre os jovens nestes endere\\u00e7os conforme listei. Tudo isso a noite entre Duque de Caxias (Jardim Olavo Bilac) S\\u00e3o Jo\\u00e3o de Meriti.\\nGostaria de pedir o aux\\u00edlio as autoridades no bairro Jardim Catarina Novo divisa Sta Luzia  / S\\u00e3o Gon\\u00e7alo RJ o Tr\\u00e1fico de drogas vem instalando barricadas para impedir a entrada de viaturas. Causando transtornos diversos aos moradores. N\\u00e3o \\u00e9 poss\\u00edvel entrada de ve\\u00edculos de assist\\u00eancia m\\u00e9dica e pessoas que precisam se locomover em cadeiras de rodas tem sua vida prejudicada. Nesse Carnaval os bandidos se mantiveram na Olegario Nascimento colocando barricadas pois \\u00e9 pr\\u00f3ximo a St\\u00e1 Luzia eles est\\u00e3o se movimentando de moto a noite toda com armas.Tivemos o caso de um cabeleireiro que foi assassinado por se queixar das barreiras. * Sempre teve barricadas nas Ruas 39 e 40, Hoje estas barricadas j\\u00e1 est\\u00e3o nas Ruas 38 37 36 35 34 33 32 Cada dia est\\u00e1 chegando em dire\\u00e7\\u00e3o a Rua Curva do S. Sta Luzia interligando a outras \\u00e1reas dom\\u00ednio. Por favor 7o BPM fa\\u00e7a opera\\u00e7\\u00c3\\u00b5es para garantir o direito do cidad\\u00e3o de bem!! Os correios n\\u00e3o entregam mais consta como \\u00e1rea de risco. Moro a 20 anos no local sempre houve tr\\u00e1fico na Rua 39 e 40 mas sempre reprimida com valentia pelo 7 Bpm - Hoje as coisas pioraram muito o 7 Bpm precisa dar uma resposta a estes marginais. Por Favor nos Ajudem!!!\\nApartamento bloco Para\\u00edba quinto andar estoca dinheiro do tr\\u00e1fico\\nTraficam todos os dias na rua antonio da silva reis no numero 358, traficam a luz do dia. Obs; as drogas ficam com a mulher de leo (nayara) no peito dela. Pesso a vcs q tragam uma policial mulher para prender esses dois individuos. A algums dias policiais da p2 levaram o carro do casal (golf prata) . Mas nem perceberam q nayara retiro toda a droga e coloco no peito. Traficam na frente de crian\\u00e7as q passam. Acho isso um absurdo! A policia militar passa e nao faz nada. Com essas pessoas traficando aqui q futuro teram nossas crian\\u00e7as crescendo achando q o trafico \\u00e9 o jeito mais facil de se crescer na vida. Entao pesso por favor prendam esses traficantes. \\nTr\\u00e1fico de drogas escancaradamente..Desfilando com armas...Dentro do condom\\u00ednio dom\\u00ednio morada do bracui,o mas intrigante q na entrada existe o IML de Angra dos reis que existe rotatividade de carros d\\u00e1 pol\\u00edcia e mesmo assim ,nada \\u00e9 feito, moradores dizem q os policiais recebem mesada dos traficantes p se fingirem de cegos...Est\\u00e1 escancarado de meliantes drogaria..Vendendo drogas..Andando armados e amea\\u00e7ando moradores e at\\u00e9 barreira na rua principal foi feito\\nSom, volume excesso, show ao vivo, incomodando moradores e interditando a RJ 114 ,por v\\u00e1rias vezes. Os \\u00f3rg\\u00e3os competentes n\\u00e3o tomam provid\\u00eancias, policiais militares envolvidos.\\n5 jovens acabam de sair de pr\\u00e9dio na rua Itagua\\u00ed,110 p\\u00e9 pequeno com destino a praia de Icara\\u00ed portando 2 mochilas cheias de intorpercentes de variados tipos pra vender na praia de Icara\\u00ed provavelmente. Est\\u00e3o todos a p\\u00e9 descendo a rua Dr Paulo C\\u00e9sar nesse exato momento.  1 negro com mochila da okley preta 4 brancos sendo um deles com mochila preta tbm \\u00e9 um de bon\\u00e9 bege, marfim ou branco\\nBoa noite gostaria muito de que esse problema fosse resolvido todos os dias aqui em Iraj\\u00e1 na pra\\u00e7a do \\u00f3nibus 296 ficam muitos homens armado e vendendo drogas e os mesmos ficam na pra\\u00e7a fumando e os moradores n\\u00e3o pode passar se n\\u00e3o eles agridem \\nEste homem pertence a uma quadrilha que falsifica e clona cart\\u00c3\\u00b5es de cr\\u00e9dito e passa nos com\\u00e9rcios locais e supermercados\\nO crime a princ\\u00edpio \\u00e9 de perturba\\u00e7\\u00e3o do sossego. Na rua Engenho d\\u00e1 Rainha,316 ,rua G casa 20,uma pessoa Come\\u00e7ou a vender alguns salgados na porta de sua casa e agora acha que \\u00e9 um bar. P\\u00c3\\u00b5e cadeiras na frente,liga som alto a noite e seus convidados costumam beber al\\u00e9m d\\u00e1 conta, criando algazarra. Os moradores do bairro de Inhauma solicitam que a PM fa\\u00e7a dilig\\u00eancias de surpresa para averiguar o fato.\\nIndiv\\u00edduos armados vendendo drogas na rua Em frente a residencias\\nV\\u00e1rios marginais transitando armados\\nTraficante conhecido como nain usa sua casa como deposito de droga e alicia crian\\u00e7a e adolecente\\nTraficante conhecido como nain usa sua casa como deposito de droga e alicia crian\\u00e7a e adolecente\\nBoca de drogas em area residencial. Mulher vendendo drogas na frente de crian\\u00e7as e fam\\u00edlia. Total desrespeito. \\nE vendida num sobrado disparadamente e tem viaturas d\\u00e1 PM local que TDS sexta ou s\\u00e1bado veem buscar o arego\\nTraficante vendendo drogas  num sobrado no primeiro andar colocaram um port\\u00e3o de ferro trancado pelo traficante para dificultar o acesso. Pol\\u00edcias d\\u00e1 \\u00e1rea pegam o arego. Os usu\\u00e1rios fumando maconha na rua e tem pontos de \\u00f3nibus, restaurante, farm\\u00e1cia. Um absurdo.\\nTem um ponto de trafico de drogas/boca de fumo montada dentro do estacionamento Extra na rua mariz e barros , na tijuca, rio de janeiro, na parte dos fundos. \\nGostaria de pedir aos senhores pois moro na Pca seca onde traficante entram armados e exibindo as mesmas em um condom\\u00ednio na R ua Barao 23 para fazer uso de drogas no estacionamento que fica na segunda portaria isso com o conhecimento da s\\u00edndica geral que n\\u00e3o toma nenhuma atitude\\nTrafico de entorpecentes. Entra e sai de usu\\u00e1rios e traficantes o dia todo.\\nEste homem faz parte de uma quadrilha que falsifica e clona cart\\u00c3\\u00b5es de cr\\u00e9dito\\nCerca de 8 bandidos com pistolas e muita droga e menores vendendo e consumindo e est\\u00e3o amea\\u00e7ando os moradores que se den\\u00fanciar eles v\\u00e3o matar por favor tenho 2 crian\\u00e7as pequenas e estamos apavorados \\nTraficantes agindo a noite no Parque Paulista Duque de Caxias Rj nas ruas 18 com 35\\nBaile funk na comunidade menino de Deus em S\\u00e3o Gon\\u00e7alo RJ com disparo de armas de fogo\\nHomens armados todos os dias 24h na minha porta vendendo drogas segue em anexo as fotos dos bandidos Diego Oliveira Dy bala Mateus kurber Lucas Rog\\u00e9rio souza rodrigo\\nHomens armados todos os dias 24h vendendo drogas \\nHomens armados todos os dias 24h na minha porta vendendo drogas\\nHomens armados todos os dias 24h na minha porta vendendo drogas\\nTr\\u00e1fico de drogas e baile funk ,na rua do col\\u00e9gio Marc\\u00edlio dias\\nInformo que na rua acajutiba lt15 qd143 santa margarida (cosmos).mora um fornecedor de notas falsas de 50 reais e vende (5)cinco notas falsas por 100 reais. O mesmo chama se Tiago paiva. Passou v\\u00e1rias notas falsas nos com\\u00e9rcio de santa margarida,no sacolao,no bazar e etc. Acarretando um enorme preju\\u00edzo aos comerciantes.e tamb\\u00e9m traz drogas de antares e as oferece aos jovens da pr\\u00f3pria rua.fumando maconha o dia todo no seu carro um Ford corcel azul.ele tem uma bolsa de viagem cheia de notas falsas.\\nBoa noite! Vou tentar ser breve. Onde moro esta rolando tr\\u00e1fico e com isso v\\u00e1rios viciados est\\u00e3o na \\u00e1rea aterrorizando os moradores. Nesta manh\\u00e3 teve uma tentativa de roubo na minha resid\\u00eancia. Estamos a merc\\u00ea, presos dentro da pr\\u00f3pria casa e esses vagabundos soltos fazendo o que quer. Nos ajude por favor. Grata! Obs: tentei enviar o v\\u00eddeo da tentativa de assalto a minha casa, das c\\u00c3\\u00a2meras de seguran\\u00e7a e da erro.\\nAqui no alto da boa vista na comunidade do mata machado local exato lixeira d\\u00e1 Comlurb foi montada a tr\\u00eas meses uma boca de fumo,os policiais do PPC comunit\\u00e1rio est\\u00e3o cientes mas n\\u00e3o tomam provid\\u00eancias nenhuma sou nascido aqui e nunca tivemos que ficar a Mercer deles at\\u00e9 um fuzil e pistolas tem no local por favor nos ajuda n\\u00e3o deixe o mata machado virar uma Rocinha d\\u00e1 vida dizem que eles est\\u00e3o migrando do borel para c\\u00e1 por favor se puder vem com viaturas descaracterizada para que n\\u00e3o saiam correndo\\nRolando nesse momento baile funk no complexo da mare mas foi ouvido tiros nesse momento no parque uni\\u00e3o \\nUma mulher  morena  fica sentada  no bar passando  drogas para usu\\u00e1rios,ela esconde as drogas  dentro da calcinha,fica ali todos os dias !!!!\\nImpressionante fiz uma denuncia semana passada (aohxyakzmw) e ate hj nada foi feito a boca de fuma esta aberta desde 9:00 da manha a todo vapor ao lado do samb\\u00f3dromo. Todas as ruas possuem uma viatura parada menos na rua que esta a boca de fumo, consci\\u00eancia? (Kkkkkkk) claro que n\\u00e3o \\u00e9. Isso \\u00e9 uma vergonha, menos de 10 metros do samb\\u00f3dromo, a 100 metros do batalh\\u00e3o de choque, a 200 metros da 6\\u00badp, a 80 metros do cicc( no quintal) e ningu\\u00e9m resolve . \\nEssa mulher  vende drogas em copacabana  ,usa drogas  dentro da cal\\u00e7a pra esconder!\\nBoa tarde.  Existe nas proximidades da rodoviaria novo rio; onde existe debaixo da linha vermelha um ponto de moto taxi conyrolado por fabio do nascimento melo mas conhecido como fabinho; porem ali ele explora os caras que querem trabalhar como moto taxi; e ocorreu de uma vez ele levando drogas para garotas de programa na vila mimosa. E tbm ali sendo ele o controlador dos moto taxi; se dizendo ele o dono daquele ponto; ele se encarrega de comprar nos morros drogas pra pessoais que ali frenquenta e tbm ele usa todo final de semana. Pois ali fica um ponto tbm de transporte para a regiao dos lagos de carros piratas.esse fabinho nao tem cnh; porem foi cassada pela lei seca; por conduzir a moto dele bebado e drogado. E estou fazendo essa denuncia pra vcs ficarem cientes do que ocorre ali nessa mediacao dos moto taxi qie ali se encontra dominado por ele o fabinho. Ele ali transporta mukgeres que trabalham na vila mimosa; se acha o dono do peda\\u00e7o;  e explora esse tipo de transporte pra buscar drogas em favelas pra usuarios.Ele \\u00e9  moreno; estatura normal; tem uns 38 anos e tem tatuagens no braco esquerdo.e ja foi preso. Pe\\u00e7o a vcs autoridades que procedam esta den\\u00fancia.  Pra nosso rio de janeiro melhorar \\nBoa tarde.  Existe nas proximidades da rodoviaria novo rio; onde existe debaixo da linha vermelha um ponto de moto taxi conyrolado por fabio do nascimento melo mas conhecido como fabinho; porem ali ele explora os caras que querem trabalhar como moto taxi; e ocorreu de uma vez ele levando drogas para garotas de programa na vila mimosa. E tbm ali sendo ele o controlador dos moto taxi; se dizendo ele o dono daquele ponto; ele se encarrega de comprar nos morros drogas pra pessoais que ali frenquenta e tbm ele usa todo final de semana. Pois ali fica um ponto tbm de transporte para a regiao dos lagos de carros piratas.esse fabinho nao tem cnh; porem foi cassada pela lei seca; por conduzir a moto dele bebado e drogado. E estou fazendo essa denuncia pra vcs ficarem cientes do que ocorre ali nessa mediacao dos moto taxi qie ali se encontra dominado por ele o fabinho. Ele ali transporta mukgeres que trabalham na vila mimosa; se acha o dono do peda\\u00e7o;  e explora esse tipo de transporte pra buscar drogas em favelas pra usuarios.Ele \\u00e9  moreno; estatura normal; tem uns 38 anos e tem tatuagens no braco esquerdo.e ja foi preso. Pe\\u00e7o a vcs autoridades que procedam esta den\\u00fancia.  Pra nosso rio de janeiro melhorar \\nVcs criam um aplicativo para denuncias e obriga as pessoas a clicar no quadrado informando q n\\u00e3o \\u00e9 de emerg\\u00eancia, \\u00e9 sim de emerg\\u00eancia minhas informa\\u00e7\\u00f5es pois se estou denunciando por aqui,\\u00e9 porque n\\u00e3o confio na policia. Assim como varias pessoas q optam em.denunciar por este aplicativo ou telefone. aohxyakzmw\\nTraficantes do tcp est\\u00e3o traficando livremente no nosso bairro, coagindo a popula\\u00e7\\u00e3o. Praticando assaltos e assassinatos. Nos ajudem. \\nH\\u00e1 uns 2 anos atr\\u00e1s ou mais, foram fechadas as ruas Guarapuava, Geolandia e outras, do bairro de Inhauma e foi criada a Associa\\u00e7\\u00e3o de Moradores do Mangueir\\u00e3o ,com a ajuda da Vereadora Rosa Fernandes. No ano passado um crime foi cometido no local,coisa que nunca havia ocorrido antes : estupro e morte d\\u00e1 adolescente D\\u00e9bora, embora o local seja um terreno f\\u00e9rtil em furtos de energia el\\u00e9trica \\u00e9 \\u00e1gua. Agora os mesmos marginais que fecharam o local est\\u00e3o querendo se apoderar de Vilas pr\\u00f3ximas para ampliarem os seus crimes. Moradores pedem socorro para que isso n\\u00e3o ocorra antes que seja tarde! Regi\\u00e3o precisa de policiamento ostensivo para que isso n\\u00e3o ocorra.\\nMinha denuncua \\u00e9 que joarene Nogueira junior esta no esquema de funeraria em Caixas que envolve muita gente grande e ate policiais e pol\\u00edticos.  O irmao dele delegado da pf marcelo nogueira tambrm esta no esquema. Podem procurar que tem muita coisa errada.\\nPessoas na casa usam local para repasse de drogas e armas\\nA meses a casa funciona com festas e m\\u00fasica eletr\\u00f3nica alta, ficando at\\u00e9 3 dias sem parar e entrando e saindo pessoas, carros sem placa estacionados na rua, gritaria e chingamentos, j\\u00e1 ouve ocasi\\u00e3o de disparo de tiros. A vizinhan\\u00e7a j\\u00e1 entrou em contato e alertou que iria chamar a policia tendo como resposta do propriet\\u00e1rio que policiais frequentavam a casa e n\\u00e3o iria acontecer nada. A vizinhan\\u00e7a est\\u00e1 se reunindo para uma a\\u00e7\\u00e3o na prefeitura, mas a situa\\u00e7\\u00e3o est\\u00e1 cada vez mais insuport\\u00e1vel. Movimento de pessoas suspeitas todo o tempo, m\\u00fasica alta durante dias e durante a semana tamb\\u00e9m, carros suspeitos parados na entrada das casas. Frequentadores j\\u00e1 foram presos por Tr\\u00e1fico de drogas sint\\u00e9ticas. Gostaria de uma investiga\\u00e7\\u00e3o urgente, est\\u00e1 insuport\\u00e1vel viver nessa vizinhan\\u00e7a.\\nTem una barbearia no Caminho das oliveiras ;n\\u00ba4,muitos suspeitos e rola toxico,alem de varias motos sem placas que ficam em frente a barbearia,fica pr\\u00f3ximo a este do Magar\\u00e7a, local chamado de ch\\u00e1cara, f\\u00e1cil acesso,entrando na rua a barbearia \\u00e9 logo vista e v\\u00e1rios rapazes sentado na calcada e as motos en frente,esta deve ser a terceira vez que fa\\u00e7o esta den\\u00fancia, aguardo provid\\u00eancias, obrigado pela aten\\u00e7\\u00e3o.\\nMoradores d\\u00e1 Vila Santa Luzia, est\\u00e3o preocupados com os usu\\u00e1rios de drogas que constantemente tem usado a pra\\u00e7a d\\u00e1 Vila e tamb\\u00e9m a frente d\\u00e1 casa 20 d\\u00e1 rua G ,onde foi posto um local para vender salgados, bebidas e cloro. Usu\\u00e1rios utilizavam o campinho, por\\u00e9m este foi utilizado para construir uma escola p\\u00fablica e desde ent\\u00e3o,passaram a usar a pra\\u00e7a. Necess\\u00e1rio policiamento ostensivo no.local!\\nBoa noite,aqui em sao gon\\u00e7alo no boa\\u00e7u comunidade da 40 os caras agindo livremente e expondo armas pistolas e agora ja tem fuzil,todas as ruas estao cheias de barricadas com com vigas de concreto ,galao no chao e cantoneiras e tubos de ferro as ruas desde da entrada na baixada ate no alto do morro divisa com os bairros da california,mutua,nutuagua\\u00e7u e porto do rosa,vao fechar agora proxima ao asfalto,nao aguentamos essa situa\\u00e7ao,os frentes do morro sao feju e tio bola,as bocas ficam na professora maria nina,rua seis,ramalho monteiro e portela ou buraco da cobra ,\\nMeu vizinho consome drogas a maior parte do dia n\\u00e3o aguento mais esse cheiro de droga!!!  Minha m\\u00e3e \\u00e9 de idade esse cheiro de droga entra em nossa casa minha m\\u00e3e passa mal. Pessoas estranhas se juntam a meu vizinho para essa baderna. Al\\u00e9m disso ainda funciona um dep\\u00f3sito clandestino de comida e bebida dos barraqueiros da passarela da barra. N\\u00e3o sei mas o que fazer !! Socorro ! At\\u00e9 meus cachorros foram amea\\u00e7ados de serem envenenados!!!!!!\\nHomens armados todos os dias 24h na minha porta vendendo drogas\\nHomens armados todos os dias 24h na minha porta vendendo drogas \\nHomens armados todos os dias 24h na minha porta vendendo drogas\\nIndiv\\u00edduos armados vendendo drogas pr\\u00f3ximo a residencias.\\n Traficante fugitivo do sistema prisional vulgo Fernando se encontra escondido na rua Galileia 7 ,senador camar\\u00e1 e o mesmo participa do tr\\u00e1fico  na localidade , inclusive com cobertura da mulher .O mesmo utiliza documentos falsos !os meninos do r\\u00e1dio ficam na esta\\u00e7\\u00e3o ,na costa Braga, no port\\u00e3o no final da rua Galileia. Moradores dessas ruas s\\u00e3o coagidos a deixarem  os port\\u00c3\\u00b5es abertos para eles  evadirem \\nBar localizado no centro de Niter\\u00f3i funciona durante todas as madrugadas, onde existem m\\u00e1quinas e a pratica de jogos de azar ilegais, como ca\\u00e7a-n\\u00edqueis, al\\u00e9m disso h\\u00e1 movimenta\\u00e7\\u00e3o com tr\\u00e1fico e consumo de drogas. Tudo isso pr\\u00f3ximo a pol\\u00edcia federal e do batalh\\u00e3o de pol\\u00edcia da cidade, numa das avenidas mais movimentadas do centro.\\nEm nome dos moradores da rua mariz e barros na tijuca e arredores, venho por meio deste denunciar o trafico de drogas dentro do estacionamento do mercado extra, localizado na rua mariz e barros, na tijuca no rio de janeiro-RJ, que esta sendo acobertado e facilitado pelos profissionais trabalhadores do estacionamento. Os usuarios de drogas ficam pertuebando a ordem publica na rua. \\nEssa pessoa est\\u00e1 ligada ao fluxo de drogas e armas em s\\u00e3o Pedro d\\u00e1 Aldeia na regi\\u00e3o dos lagos. Reside rua Jos\\u00e9 Ant\\u00f3nio de Melo 16 balne\\u00e1rio das conchas. Usa um carro Audi a3 preto com documentos vencidos e multas PLACA LNO 6320 tamb\\u00e9m possui duas motos, uma chave vermelha e uma Suzuki roxa. \\u00e9 usu\\u00e1rio de drogas e anda sendo amea\\u00e7a a familiares. Por morar nesse bairro passa todos os dias em frente ao batalh\\u00e3o d\\u00e1 PM, q fica na rodovia para ir ao centro d\\u00e1 cidade.\\nEst\\u00e1 sendo anunciado q s\\u00e1bado dia 11/03/17, ser\\u00e1 realizado Baile Funk em comemora\\u00e7\\u00e3o ao anivers\\u00e1rio do gerwnte da boca de fumo de nome Decy. Com drogas a vontade e sem deixar os moradores dormirem.\\nOs mesmos arrombam casas , invadem,  ficam vendendo drogas na regiao e estao metidos entre varias outras coisas . Sem contar que pegam vagas de drogas e espalham entre varios pontos da regiao de jacon\\u00e9 e barra nova.  Fezem assaltos na regiao de ponta negra e marica,  trazendo motos e celulares roubados onde os mesmo sao vendido s na regiao de barra nova. \\nTodos os finais de semana ocorre venda de p\\u00e1ssaros silvestres, e os pagamentos s\\u00e3o acerdos e feitos com umas trouxinhas estranhas. O local onde s\\u00e3o armazenados os p\\u00e1ssaros e etc fica ao lado d\\u00e1 casa 33 d\\u00e1 rua Lancastre onde esse vulgo Ronaldinho reside. Passo por esse local todos os finais de semana \\u00e9 \\u00e9 poss\\u00edvel ver a \\\"feira onde acontece essas transa\\u00e7\\u00c3\\u00b5es\\\"\\nTr\\u00e1fico de drogas atr\\u00e1s do col\\u00e9gio Marc\\u00edlio dias ,o que adianta disque denuncia se a pol\\u00edcia n\\u00e3o vem?\\nMuleques em praia de Mau\\u00e1 em grupinhos na rua do imperador e de frente ao poliesportivo vende drogas  apurei por alto O nome de um deles \\u00e9 Rodrigo Moreira Pereira. Estava ficando na Rua do Imperador  Ali tem um ponto e muitos jovens  Quando n\\u00e3o fica um grupo de vinte muleques ficam no ponto de onibus do polioesportivo\\nPr\\u00e9dio invadido na rua Bar\\u00e3o de S\\u00e3o F\\u00e9lix pr\\u00f3ximo N. 82. Boca funciona no 2and, com branquinha e 2 vapores. Um olheiro em fte no lado oposto e dentro da portaria junto a escada um seguran\\u00e7a armado de pistola\\nBoa noite,eu gostaria de denunciar milicianos que est\\u00e3o aterrorizando os moradores da comunidade \\u00e1guia de ouro em inhauma,est\\u00e3o arrombando a casa dos moradores que n\\u00e3o paga a mensalidade da associa\\u00e7\\u00e3o de moradores,batendo e expulsando os moradores de suas pr\\u00f3prias casas se n\\u00e3o pagar a mensalidade.\\nRapaz vendendo notas falsas em redes sociais,segue abaixo perfil do mesmo.. Que absurdo!!! https://www.facebook.com/marcio.jhobe.906 O PODER DA IMPUNIDADE S\\u00f3 AUMENTA....\\nMilicianos est\\u00e3o batendo e expulsando moradores de suas residencia se n\\u00e3o pagar a mensalidade da associa\\u00e7\\u00e3o de moradores d\\u00e1 comunidade \\u00e1guia de ouro em Inha\\u00fama,eles tem total apoio do presidente da associa\\u00e7\\u00e3o de moradores Pedro Borges onde ele pr\\u00f3prio mandou que as cobradoras que v\\u00e3o na resid\\u00eancia dos moradores,pintasse com tinta vermelha a casa das pessoas que paga na associa\\u00e7\\u00e3o e n\\u00e3o pintar,a casa do morador que paga na m\\u00e3o das cobradoras que atualmente \\u00e9 3 mulheres acompanhada de 2 homens armados...Est\\u00e1 um inferno essa comunidade,anoite s\\u00f3 se ver esses marginais de fuzil e metralhadora.\\nAQUI EM MINHA VIZINHAN\\u00c7A TODOS OS DIAS BANDIDOS ATERRORIZAM A COMUNIDADE POIS TRAFICAM,VENDEM REALIZAM VENDAS DE DROGAS TODOS OS DIAS COMO SE VENDESSEM PICOLE E E NADA ESTA SENDO FEITO PELAS AUTORIDADES POLICIAIS NO SENTIDO DE ACABAR COM ISSO...ESSES DESGRA\\u00c7ADOS BEINCAM COM A CARA DA GENTE PULAM O MURO DAS CASAS TODAS AS VEZES QUE RECEBEM AVISO PELOS RADIOS COMUNICADORES DOS COMPARSAS E A POLICIA DAQUI DA LOCALIDADE PARE\\u00c7E QUE ESTA DE COMPLO,POIS ELES NEM VEM AQUI E SE VE. NADA FAZEM,JA HA BOSTOS DE QUE ELES ESTAO COMPRADOS POR ESSES BAMDIDOS DESGRA\\u00c7ADOS POIS ELES SO VEEM AQUI PRA RECEBER O \\\"PAGAMENTO\\\" SEMANAL DELES ...E ESSE DESGRA\\u00c7ADOS AGEM DIA E NOITE AQUI AMEA\\u00c7ANDO OS MORADORES E FICAM EXIBINDO ARMAS ,DANDO TIROS PRO AR...E GRITANDO MACONHA E COCAINA EM PROMO\\u00c7AO,MACONHA E COCAINA EM PROMO\\u00c7AO ABASTECEDO BANDOS DE VICIADOS TODOS OS DIAS DA SEMANA...MAS E TODOS OS DIAS,E APOLICIA DAQUI NADA TEM FEITO PRA ACABAR COM ESSES DEMONIOS QUE VIVEM ARMADOS E SE DIVERTEM COMO SE ESTIVESSEM A BRINCAR COM SUAS ARMAS NA CERTEZA ABSOLUTA DE PLENA SEGURAN\\u00c7A POIS ELES TEM A POLICIA DAQUI EM ABSOLUTO CONTROLA POIS ESSSES POLICIAIS AGEM SOB PLENO SUBORNO POIS JA SABEM O QUE ACONTECE AQUI NA COMUNIDADE E NAO TOMAM PROVIDENCIAS E NAO ESTAO AGINDO COMO POLICIAIS NE COMK AUTORIDADES PRA ACABAR COM ISSO ELES PARECEM INCENTIVAR QUE ISSO CRES\\u00c7A MAIS E MAIS...POIS COMO JA RELATADO ELES ENTRAM AQUI NA COMUNIDADE DE MANHA E A TARDE E A NOITE TODOS OS DESGRA\\u00c7ADOS ESTAO AQUI NOVAMENTE DANDO SEUS TIROS E SOLTANDO FOGOS DE ARTIFICIOS EM PLENO DIA E NOITE E ENTRAM COM A \\\"FESTA\\\" PELA MADRUGADA A FORA TODOS OS DIAS DA SEMANA AS 24 HORAS DO DIA E DA NOITE...EU IMPLORO E PE\\u00c7O PELO AMOR DE DEUS MANDEM PRA O BOPE PRA ACABAR COM ESSES DESGRA\\u00c7ADOS DE UMA VEZ POR TODAS...\\\"PELO AMOR DE DEUS\\\"...ACABEM COM ESSES DESGRA\\u00c7ADOS!!!\\nN\\u00e3o tenho muitas informa\\u00e7\\u00f5es, mas o condutor do carro modelo Siena prata lkq9217,est\\u00e1 com atitudes suspeitas de Tr\\u00e1fico de drogas.\\nHomens armados todos os dias 24h na minha porta\\nH\\u00e1 na Rua Bias Fortes, em frente ao n\\u00famero 51 (casa que fica entre uma igreja e uma cl\\u00ednica de fisioterapia) um ponto de uso de drogas. Desconfio que os entorpecentes ficam guardados na referida casa que funciona tamb\\u00e9m como dep\\u00f3sito de mercadorias de camel\\u00f3s. Todos os dias ao passar observo pessoas utilizando drogas sentados em um banco de cimento constru\\u00eddo ao redor das \\u00e1rvores que ficam na cal\\u00e7ada da referida casa. Ressalto que todos os dias h\\u00e1 consumo de drogas no local. Pe\\u00e7o sigilo acerca da minha identidade. H\\u00e1 tamb\\u00e9m uma pra\\u00e7a que fica no final da referida rua, onde o Tr\\u00e1fico de drogas \\\"rola solto\\\" todos os dias.  \\nMais uma vez venho pedir ajuda, s\\u00e3o 16:31 e a prostitui\\u00e7\\u00e3o e uso de drogas rolando solto em plena luz do dia.  Rua residencial virou ponto de prostitui\\u00e7\\u00e3o, onde mulheres ficam usando drogas, mostrando os seios e gritando palavras obscenaas.\\nDuas barricadas na Rua doutor Lucio,entre as ruas iara e sangento Jorge monsores. Tendo baile funk nessa \\u00e1rea as  sextas com um grande contingente  de bandidos  altamente  armados, tendo at\\u00e9  um considerado n\\u00famero de fuzis \\nEstava tranquilamente revisando a minha timeline no Facebook quando me deparei com um rapaz vendedo notas falsificadas no grupo \\\"Joga pra Rolo Realengo\\\" e decidi denunciar para que outras pessoas n\\u00e3o se prejudique com o ato desse rapaz.\\nUsu\\u00e1rios de drogas fumando na \\u00e1rea comum do pr\\u00e9dio\\ncarro do gerente do trafico do morro do s\\u00e3o jo\\u00e3o , no engenho novo, vulgo portugal , moreno com tatuagens no bra\\u00e7o \\nBoa noite! Um Siena da cor prata,placa lkq9217,anda por a\\u00ed arriscando a vida das pessoas, dirigindo alcoolizado e visivelmente drogado,j\\u00e1 vi por diversas vezes o condutor dirigindo em alta velocidade enquanto estava embreagado e drogado,faz isso sempre! Ele est\\u00e1 arriscando vidas, dirigindo dessa forma,por favor, tomem provid\\u00eancia!\\nSou morador da rua monteiro da silva em guadalupe atr\\u00e1s do shoping e estou sendo amea\\u00e7ada pelo vendedor de Gas guto, juntamente com seus compar\\u00e7as por que nao quero comprar Gas com ele Eu e todos do bairro , ele esta junto com um pastor chamado Reginaldo que traz carga roubado do chapa d\\u00e3o e  estao fechando aqui tudo e amea\\u00e7ando os moradores que nao comprar com eles\\nTraficando na rua na cara dura,  invadindo casas para roubar.  Riu e furto de celulares em baca x\\u00e1  e jacone e na vila.  Aliciacao de menonres de idade em jacone , pois colocam cargas na mao deles na paradaria do pedra na rua 13 proximo ao dpo. \\nAmassada por ter comprado g\\u00e1s sem ser com o Guto ele paga um motot\\u00e1xi que chamam de rato e fica abordando moradores e avisa Que g\\u00e1s agora tem dono e se comprar fora ele vai botar fogo na casa ele est\\u00e1 envolvido com um tal pastor Reginaldo e pitter que  S\\u00e3o do chapad\\u00e3o mais aqui n\\u00e3o \\u00e9 comunidade \\nReceberam grande carga de drogas, dois tabletes de maconha, meio kilo de crack e meio kilo de cocaina. Estao com duas pistolas-uma 380 e outra nao sei mas tem um pente de trinta. Traficam o dia todo na rua antonio da silva reis, numero 358.nao respeitam trabalhadores e nem crian\\u00e7as q sao obrigadas a presenciar esse absurdo! Pms passam mas nao fazem nada!  \\nHomens armados todos os dias 24h na minha porta vendendo drogas\\nHomens armados todos os dias 24h na minha porta vendendo drogas\\nV\\u00e1rios bandidos fortemente armados no parque uni\\u00e3o complexo da mar\\u00e9 pronto para invadir baixar do sapateiro \\n tr\\u00e1fico de droga Mateus olivira. Est\\u00e3o buscando na favela do acari\\nBoa noite,quanto mas eu denuncio mas aparece milicianos vagabundo na comunidade que eu moro,j\\u00e1 tem dois indiv\\u00edduos armados pr\\u00f3ximo ao mercadinho do Guilherme neste momento!Na comunidade do guarda est\\u00e1 infestado de milicianos e ficam varios  dentro do brisolao e no brisolinha tudo armado,pior \\u00e9 que se sentem os donos do peda\\u00e7o! fa\\u00e7am alguma coisa porque eles vivem cobrando taxas que o morador n\\u00e3o tem que pagar mas \\u00e9 obrigado a pagar sen\\u00e3o apanha e \\u00e9 expulsos de suas pr\\u00f3prias casa...a comunidade \\u00e1guia de ouro est\\u00e1 pedindo socorro.\\nTraficante do mau causa terror a moradores da localidade. Humilha e aterroriza. Pol\\u00edcia entra s\\u00f3 para pegar dinheiro.  \\nElementos vendendo drogas no bar s qiLquer hora filho da propriet\\u00e1ria envolvido!!!\\nSou morador e n\\u00e3o d\\u00e1 mais p conviver c isso.olha o q acabei de ver d\\u00e1 minha janela.onde pago 2000 de condom\\u00ednio,em um 3 quartos.na rua prado J\\u00fanior num 37.da p viver assim?Ele entrega TD droga pr\\u00f3s comparsas... Inadinissivel!!! Em plena Copacabana...\\nTr\\u00e1fico ao ar livre...Sem limites.inadimissivel!! Copacabana...Prado junior.quadra d\\u00e1 praia.o metro quadrado mais caro de Copacabana....\\nTraficantes continua aterrorizando moradores no bairro roseiral\\nAlunos est\\u00e3o usando drogas no interio do col\\u00e9gio, tamb\\u00e9m sobem a comunidade ao lado para comprar drogas,no hor\\u00e1rio que deveriam estar em aula,mas isso ocorre devido o port\\u00e3o est\\u00e1 aberto o tempo todo,podendo assim at\\u00e9 traficantes se infiltrar entre alunos.\\nTraficantes fortemente armados tem causado p\\u00e2nico nos moradores. Eles est\\u00e3o vendendo drogas no beco ao lado do n\\u00famero 9 e ao longo da ladeira do livramento/Gamboa/RJ, fazem rondas intimidando moradores. Ficam exibindo armas durante o dia e a noite. Na ladeira n\\u00e3o havia este tipo de problema, Come\\u00e7ou no final do ano devido a falta de policiamento no local. Descem pela ladeira armados e de moto para andar na rua Sacadura Cabral. Geralmente s\\u00e3o entre 3 a 10 traficantes.\\n H\\u00e1 mais ou menos 3 meses aqui No Bairro de Anchieta,na Rua Faustino Lins, pr\\u00f3ximo a escada que da acesso ao parque esperan\\u00e7a, dois menores de idade aparentando ter entre 10 e 14 anos de idade, morenos claros sendo um de cabelo loiro e o outro de cabelo preto ficam na porta dos moradores vendendo e embalando drogas e impedindo o ir e vir dos moradores do local. Os mesmos j\\u00e1 s\\u00e3o antigos na localidade e n\\u00e3o possuem arma de fogo. Os mesmos ficam escondendo os entorpecentes nos muros dos moradores, nos canos de passagem de \\u00e1gua que ficam na rampa de garagem dos moradores beirando os paralelep\\u00edpedos, e tamb\\u00e9m em cima do muro dos moradores. Alguns moto taxistas que trabalham na localidade tamb\\u00e9m participam dessa pr\\u00e1tica il\\u00edcita carregando em baixo do banco das suas motosentorpecentes em grandes quantidades. pedimos a colabora\\u00e7\\u00e3o das autoridades competentes para nos ajudar a resolver esse fato o mais r\\u00e1pido possivel desde j\\u00e1 agrade\\u00e7o.\\nBoa tarde,  Hoje, dia 09/03 durante a madrugada, traficantes come\\u00e7aram a perfurar o asfalto da rua major Augusto cesar, em engenheiro belford.  J\\u00e1 existem mais duas ruas completamente perfuradas ( em anexo mapa) e com mais essa eles complemente fecharam parte do bairro no qual ir\\u00e1 implicar na n\\u00e3o circula\\u00e7\\u00e3o de carros, coleta de lixo e outros servicos.  Esse major, est\\u00e1 feito pela metade, Provalvemtne amanh\\u00e3 terminarao.  Precisamos da pol\\u00edcia e da prefeitura pra tapar e os carros voltarem a circular \\nTraficantes est\\u00e3o aterrorizando moradores\\nOl\\u00e1 venho por meio desta para informar o Tr\\u00e1fico de drogas na Covanca, condom\\u00ednio 850 j\\u00e1 fiz in\\u00fameros chamados para 190 sendo que n\\u00e3o adianta de nada espero que por aqui tomen alguma provid\\u00eancia pois n\\u00e3o aguento mais esses filhos de uma m\\u00e3e para n\\u00e3o falar outra coisa vender drogas no meu port\\u00e3o desde j\\u00e1 agrade\\u00e7o a aten\\u00e7\\u00e3o boa noite \\nHomens armados todos os dias 24h na minha porta vendendo drogas\\nHomens armados todos os dias 24h na minha porta vendendo drogas\\nBom dia, n\\u00f3s cansamos de avisar e pior aconteceu, os bandidos da comunidade do muqui\\u00e7o colocaram uma boca de fumo aqui na travessa Santo Ant\\u00f3nio em marechal Hermes. A boca fica na reta de Deodoro, quem fica l\\u00e1 eno bandido de nome wesley vulgo \\\"russilho\\\" tamb\\u00e9m chamado de \\\"russ\\u00e3o\\\", ele \\u00e9 foragido do sistema carcer\\u00e1rio. O mais engra\\u00e7ado \\u00e9 que ninhada viatura vai ao local para prender esse bandido que est\\u00e1 aterrorizando a nossa rua. Pedimos ao comandante do 9 batalh\\u00e3o que nos ajude a prender esse bandido. Segue a foto o bandido e o branquinho da direita de blusa branca e bermuda azul.\\nBandidos da comunidade do muqui\\u00e7o est\\u00e3o fugindo pela travessa Santo Ant\\u00f3nio em marechal Hermes, quando a pol\\u00edcia entra na comunidade. Eles passam correndo com armas na m\\u00e3o. E a pol\\u00edcia n\\u00e3o prende eles. E s\\u00f3 ficar aqui na rua. N\\u00e3o \\u00e9 poss\\u00edvel que o comandante do 9 batalh\\u00e3o nunca tomou conhecimento do que acontece aqui em nossa rua porque nada \\u00e9 feito. Ningu\\u00e9m v\\u00ea viatura aqui estamos abandonados. Agora colocaram uma boca de fumo na reta de Deodoro que fica no final da nossa rua. E nada foi feito para prender o bandido de vulgo russinho que \\u00e9 foragindo da justi\\u00e7a o nome dele \\u00e9 wesley ele \\u00e9 esse da foto de camisa branca e bermuda azul. Ele desfila de moto e armado sem ser incomodado, tudo isso porque nossas den\\u00fancias n\\u00e3o foram ouvidas. Cansamos de avisar que isso aconteceria mais nada foi feito.\\nTrafico de drogas perturbando moradores e incr\\u00edvel como a policia n\\u00e3o vem aqui uma meia d\\u00fazia de molekes com armas velhas enferrujadas perturbando moradores rua sem sa\\u00edda por favor pe\\u00e7a ao pessoal do 12\\u00cbdar uma dura aqui na rua 21 no final da rua no engenho do mato  Tem uma moto popi amarela que do gerente da boca ele anda livremente aqui com um revolver na cintura intimidando todos e um muleke magrinho mais ou menos 1.70 branco cabelo baixinho preto eles ficam muito na casa numero 12 da rua 21 (final da rua e mais afrente no final da rua se costumam come\\u00e7ar o movimento as 11.00hs\\n\",\n",
      "  \"result\": {\n",
      "    \"PESSOA\": [\n",
      "      \"foragido do sistema\",\n",
      "      \"propriet\\u00e1rio\",\n",
      "      \"alunos\",\n",
      "      \"Vila Santa Luzia\",\n",
      "      \"a pol\\u00edcia\",\n",
      "      \"fam\\u00edlia\",\n",
      "      \"Homens armados\",\n",
      "      \"mulher\",\n",
      "      \"2 homens armados\",\n",
      "      \"expulsando\",\n",
      "      \"DESGRA\\u00c7ADOS\",\n",
      "      \"gente\",\n",
      "      \"vez\",\n",
      "      \"s\\u00edndica geral\",\n",
      "      \"para\",\n",
      "      \"BAMDIDOS\",\n",
      "      \"\\\"russ\\u00e3o\\\"\",\n",
      "      \"seguran\\u00e7a armado\",\n",
      "      \"milicianos\",\n",
      "      \"  Minha m\\u00e3e\",\n",
      "      \"3 mulheres\",\n",
      "      \"2 crian\\u00e7as\",\n",
      "      \"O\",\n",
      "      \"pitter\",\n",
      "      \"vinte muleques\",\n",
      "      \".\\nEst\\u00e1 sendo anunciado\",\n",
      "      \"AUTORIDADES POLICIAIS\",\n",
      "      \"Hugo Freitas\",\n",
      "      \"pessoa\",\n",
      "      \"Tiago paiva\",\n",
      "      \"Ronaldinho\",\n",
      "      \"adolecente\",\n",
      "      \"cobradoras\",\n",
      "      \"respons\\u00e1vel\",\n",
      "      \"policial\",\n",
      "      \"Rodrigo Moreira Pereira\",\n",
      "      \"\\\"\",\n",
      "      \"meia d\\u00fazia de molekes\",\n",
      "      \"Bandidos da comunidade\",\n",
      "      \"jovens\",\n",
      "      \"5 jovens\",\n",
      "      \"gerente da boca\",\n",
      "      \"droga entra\",\n",
      "      \"rio de janeiro-RJ\",\n",
      "      \"russinho\",\n",
      "      \"sociais\",\n",
      "      \"morenos\",\n",
      "      \"garotas de programa\",\n",
      "      \"na\",\n",
      "      \"Mateus kurber\",\n",
      "      \"fabio do nascimento melo\",\n",
      "      \"guto\",\n",
      "      \"Guilherme\",\n",
      "      \"bandidos \",\n",
      "      \"usu\\u00e1rios\",\n",
      "      \"marcelo nogueira\",\n",
      "      \"dia\",\n",
      "      \"traficantes\",\n",
      "      \"e\",\n",
      "      \"Mulher\",\n",
      "      \"moto taxi\",\n",
      "      \"usuarios de drogas\",\n",
      "      \"Alunos\",\n",
      "      \"gerente\",\n",
      "      \"no 2and\",\n",
      "      \"como varias\",\n",
      "      \"homem\",\n",
      "      \"parados\",\n",
      "      \"Este homem\",\n",
      "      \"barbearia\",\n",
      "      \"Fernando\",\n",
      "      \"joarene Nogueira junior\",\n",
      "      \"noite\",\n",
      "      \"marginais\",\n",
      "      \"moradores\",\n",
      "      \"aohxyakzmw\",\n",
      "      \"anivers\\u00e1rio\",\n",
      "      \"1 negro\",\n",
      "      \"bandido\",\n",
      "      \"Diego Oliveira\",\n",
      "      \"aguento mais\",\n",
      "      \"fabinho\",\n",
      "      \"alto O\",\n",
      "      \"Pedro Borges\",\n",
      "      \"Milicianos\",\n",
      "      \"caras\",\n",
      "      \"vendendo\",\n",
      "      \"Pr\\u00e9dio\",\n",
      "      \"mulher de leo\",\n",
      "      \"Traficante\",\n",
      "      \"4 brancos\",\n",
      "      \"tendo\",\n",
      "      \"e barros\",\n",
      "      \"morador\",\n",
      "      \"bandidos da comunidade\",\n",
      "      \"portugal\",\n",
      "      \"moto taxistas\",\n",
      "      \"rodrigo\",\n",
      "      \"wesley\",\n",
      "      \"Vereadora Rosa Fernandes\",\n",
      "      \"Guto\",\n",
      "      \"branquinho\",\n",
      "      \"Lucas Rog\\u00e9rio\",\n",
      "      \"minha m\\u00e3e\",\n",
      "      \"Rapaz\",\n",
      "      \"traficante\",\n",
      "      \"Pol\\u00edcias\",\n",
      "      \"Minha denuncua \\u00e9\",\n",
      "      \"Traficantes\",\n",
      "      \"V\\u00e1rios marginais\",\n",
      "      \"Meu vizinho\",\n",
      "      \"a\",\n",
      "      \"wesley vulgo \\\"russilho\\\"\",\n",
      "      \"Indiv\\u00edduos\",\n",
      "      \"minha resid\\u00eancia\",\n",
      "      \"usu\\u00e1rio de drogas\",\n",
      "      \"muita\",\n",
      "      \"Elementos\",\n",
      "      \"policiais\",\n",
      "      \"seus\",\n",
      "      \"na minha\",\n",
      "      \"multas PLACA LNO\",\n",
      "      \"Usu\\u00e1rios de drogas\",\n",
      "      \"homens armado\",\n",
      "      \"que\",\n",
      "      \"dele delegado\",\n",
      "      \"sem\",\n",
      "      \"crian\\u00e7a\",\n",
      "      \"os meninos do r\\u00e1dio\",\n",
      "      \"nayara\",\n",
      "      \"amea\\u00e7ados de\",\n",
      "      \"Pms\",\n",
      "      \"drogas\",\n",
      "      \"V\\u00e1rios bandidos\",\n",
      "      \"bandidos\",\n",
      "      \"a ajuda da\",\n",
      "      \"Frequentadores\",\n",
      "      \"Pereira.\",\n",
      "      \"moreno\",\n",
      "      \"compar\\u00e7as\",\n",
      "      \"donos do peda\\u00e7o\",\n",
      "      \"de\",\n",
      "      \"morte\",\n",
      "      \"Reginaldo\",\n",
      "      \"cidad\\u00e3o de bem\",\n",
      "      \"em grupinhos na\",\n",
      "      \"aguardo\",\n",
      "      \"da\",\n",
      "      \"de idade\",\n",
      "      \"Moradores\",\n",
      "      \"dois individuos\",\n",
      "      \"Mateus olivira\",\n",
      "      \"usuarios\",\n",
      "      \"crian\\u00e7as\",\n",
      "      \"indiv\\u00edduos armados\",\n",
      "      \"Decy\",\n",
      "      \"ramalho monteiro\",\n",
      "      \"8 bandidos\",\n",
      "      \"Indiv\\u00edduos armados\",\n",
      "      \"vagabundos\",\n",
      "      \"Dy bala\",\n",
      "      \"meliantes\",\n",
      "      \"cabeleireiro\",\n",
      "      \"Uma mulher  morena\",\n",
      "      \"pessoas\",\n",
      "      \"  na localidade ,\",\n",
      "      \"souza\",\n",
      "      \"Muleques\",\n",
      "      \"filho da propriet\\u00e1ria\",\n",
      "      \"um muleke magrinho\",\n",
      "      \"Agora\",\n",
      "      \"se n\\u00e3o\",\n",
      "      \"meu vizinho\",\n",
      "      \"Pol\\u00edcia\",\n",
      "      \"Pessoas\",\n",
      "      \"em\",\n",
      "      \"D\\u00e9bora\"\n",
      "    ],\n",
      "    \"LOCAL\": [\n",
      "      \"Vila Santa Luzia\",\n",
      "      \"Rua Curva do S. Sta Luzia\",\n",
      "      \"tijuca\",\n",
      "      \"bairros da california\",\n",
      "      \"avenidas\",\n",
      "      \"com\\u00e9rcio de santa margarida\",\n",
      "      \"Inha\\u00fama\",\n",
      "      \"pra\\u00e7a d\\u00e1 Vila e tamb\\u00e9m\",\n",
      "      \", obrigado pela\",\n",
      "      \"comunidade do mata machado\",\n",
      "      \"estao metidos entre\",\n",
      "      \"rua Lancastre\",\n",
      "      \"a residencias\",\n",
      "      \"sao gon\\u00e7alo\",\n",
      "      \"brisolinha\",\n",
      "      \"comunidade\",\n",
      "      \"feju e tio\",\n",
      "      \"dono\",\n",
      "      \"baixar do sapateiro\",\n",
      "      \"Pca seca\",\n",
      "      \"muqui\\u00e7o\",\n",
      "      \"Boa noite,\",\n",
      "      \"rua antonio da silva reis\",\n",
      "      \"vizinhan\\u00e7a.\\nTem una\",\n",
      "      \"porto do rosa\",\n",
      "      \",as\",\n",
      "      \"favelas\",\n",
      "      \"rua monteiro da silva\",\n",
      "      \"barra nova\",\n",
      "      \"RJ\",\n",
      "      \"AUMENTA\",\n",
      "      \"ruas iara e sangento Jorge monsores\",\n",
      "      \"maria\",\n",
      "      \"area residencial\",\n",
      "      \"os bairros da\",\n",
      "      \"campinho\",\n",
      "      \"Duque de Caxias\",\n",
      "      \"casa 20 d\\u00e1 rua G\",\n",
      "      \"Iraj\\u00e1\",\n",
      "      \"rua do col\\u00e9gio Marc\\u00edlio dias\",\n",
      "      \"divisa\",\n",
      "      \"morada do bracui\",\n",
      "      \"com umas\",\n",
      "      \"100 metros do batalh\\u00e3o de choque\",\n",
      "      \"rio de janeiro-RJ\",\n",
      "      \"Inhauma\",\n",
      "      \"rua Engenho d\\u00e1 Rainha,316 ,rua G casa 20,uma\",\n",
      "      \"complexo da mar\\u00e9\",\n",
      "      \"pra\\u00e7a do \\u00f3nibus 296\",\n",
      "      \"Rocinha\",\n",
      "      \"inhauma\",\n",
      "      \"Mau\\u00e1\",\n",
      "      \"engenho novo\",\n",
      "      \"vila mimosa\",\n",
      "      \"outras coisas\",\n",
      "      \"ponta negra\",\n",
      "      \"rua Bar\\u00e3o de S\\u00e3o F\\u00e9lix\",\n",
      "      \"morro sao feju e tio bola\",\n",
      "      \"condom\\u00ednio na R ua Barao 23\",\n",
      "      \"balne\\u00e1rio das conchas\",\n",
      "      \"professora maria nina,rua seis,ramalho monteiro e portela ou buraco da cobra\",\n",
      "      \"borel\",\n",
      "      \"do\",\n",
      "      \"rua Itagua\\u00ed,110\",\n",
      "      \"a praia de Icara\\u00ed\",\n",
      "      \"S\\u00e3o Gon\\u00e7alo RJ\",\n",
      "      \"Niter\\u00f3i\",\n",
      "      \"copacabana \",\n",
      "      \"comunidade da 40\",\n",
      "      \"guadalupe\",\n",
      "      \"marica\",\n",
      "      \"200 metros da 6\\u00badp\",\n",
      "      \"Magar\\u00e7a\",\n",
      "      \"s\\u00e3o Pedro d\\u00e1 Aldeia\",\n",
      "      \"jacone\",\n",
      "      \"barbearia\",\n",
      "      \"s\\u00e3o coagidos a\",\n",
      "      \"parque esperan\\u00e7a\",\n",
      "      \"rua no engenho do mato\",\n",
      "      \"O PODER DA IMPUNIDADE\",\n",
      "      \"Tr\\u00e1fico de drogas\",\n",
      "      \"RJ 114\",\n",
      "      \"S\\u00e3o Gon\\u00e7alo\",\n",
      "      \"Bairro de Anchieta\",\n",
      "      \"Jardim Olavo Bilac\",\n",
      "      \"Angra dos reis\",\n",
      "      \"rua acajutiba lt15 qd143 santa margarida\",\n",
      "      \"Caixas\",\n",
      "      \"passarela da barra\",\n",
      "      \"baca x\\u00e1\",\n",
      "      \"rua Galileia\",\n",
      "      \"chapad\\u00e3o\",\n",
      "      \"Ruas 38 37 36 35 34 33 32\",\n",
      "      \"rua 13\",\n",
      "      \"boa\\u00e7u\",\n",
      "      \"Rua 39 e 40\",\n",
      "      \"Rua doutor Lucio\",\n",
      "      \",nao aguentamos essa situa\\u00e7ao,\",\n",
      "      \"Deodoro\",\n",
      "      \"Gamboa\",\n",
      "      \"bairro roseiral\",\n",
      "      \"alto da boa vista\",\n",
      "      \"rua Sacadura Cabral\",\n",
      "      \"regiao de jacon\\u00e9 e barra nova\",\n",
      "      \"Traficante fugitivo\",\n",
      "      \"da cidade, numa\",\n",
      "      \"de 10 metros do samb\\u00f3dromo\",\n",
      "      \"rua Dr Paulo C\\u00e9sar\",\n",
      "      \"mata machado\",\n",
      "      \"foram fechadas as ruas\",\n",
      "      \"regi\\u00e3o dos lagos\",\n",
      "      \"vila\",\n",
      "      \",rua seis\",\n",
      "      \"comunidade menino de Deus\",\n",
      "      \"rua mariz e barros\",\n",
      "      \"Copacabana\",\n",
      "      \"a ordem publica na\",\n",
      "      \"S\\u00e3o Jo\\u00e3o de Meriti\",\n",
      "      \"baixada ate no\",\n",
      "      \"praia de Icara\\u00ed\",\n",
      "      \"ligada ao fluxo de drogas e armas em s\\u00e3o\",\n",
      "      \"parque uni\\u00e3o\",\n",
      "      \"entre\",\n",
      "      \"esquema\",\n",
      "      \"rio de janeiro\",\n",
      "      \"Caminho das oliveiras ;n\\u00ba4,muitos\",\n",
      "      \"mutua\",\n",
      "      \"Rua Faustino Lins\",\n",
      "      \"tubos\",\n",
      "      \"samb\\u00f3dromo\",\n",
      "      \"linha vermelha\",\n",
      "      \"nutuagua\\u00e7u\",\n",
      "      \"de frente ao\",\n",
      "      \"Olegario Nascimento\",\n",
      "      \"se\",\n",
      "      \"da portaria junto a\",\n",
      "      \"senador camar\\u00e1\",\n",
      "      \"engenheiro belford\",\n",
      "      \"rua prado J\\u00fanior\",\n",
      "      \"comunidade \\u00e1guia de ouro\",\n",
      "      \"comunidade do guarda\",\n",
      "      \"marechal Hermes\",\n",
      "      \"ruas Guarapuava, Geolandia e outras\",\n",
      "      \"Ruas 39 e 40\",\n",
      "      \"rua major Augusto cesar\",\n",
      "      \"passa todos os\",\n",
      "      \"a 80 metros do cicc(\",\n",
      "      \"H\\u00e1 na Rua\",\n",
      "      \"Marc\\u00edlio dias ,\",\n",
      "      \"Covanca\",\n",
      "      \"ficam na\",\n",
      "      \"rua Galileia 7\",\n",
      "      \"por meio deste denunciar\",\n",
      "      \"ponto e muitos jovens \",\n",
      "      \"de\",\n",
      "      \"tijuca e arredores\",\n",
      "      \"brisolao\",\n",
      "      \"rua mariz e barros ,\",\n",
      "      \"rua do imperador\",\n",
      "      \"bairro de Inhauma\",\n",
      "      \"um dep\\u00f3sito clandestino\",\n",
      "      \"complexo da mare\",\n",
      "      \"antares\",\n",
      "      \"regiao dos lagos\",\n",
      "      \".O mesmo\",\n",
      "      \"do r\\u00e1dio\",\n",
      "      \"bloco Para\\u00edba\",\n",
      "      \"Rua do Imperador\",\n",
      "      \"um\",\n",
      "      \"rodoviaria novo rio\",\n",
      "      \"rua Jos\\u00e9 Ant\\u00f3nio de Melo 16\",\n",
      "      \"favela do acari\",\n",
      "      \"vagas de drogas e\",\n",
      "      \"costa Braga\",\n",
      "      \"usu\\u00e1rios de drogas\",\n",
      "      \". \\nEssa\",\n",
      "      \"travessa Santo Ant\\u00f3nio\",\n",
      "      \"morro do s\\u00e3o jo\\u00e3o\",\n",
      "      \"Jardim Catarina Novo divisa Sta Luzia\",\n",
      "      \"Prado junior.quadra\",\n",
      "      \"baixada\",\n",
      "      \"Parque Paulista Duque de Caxias Rj nas ruas 18 com 35\",\n",
      "      \"ostensivo no.local\",\n",
      "      \"ladeira do livramento\",\n",
      "      \"dentro do estacionamento\",\n",
      "      \"outras, do\"\n",
      "    ],\n",
      "    \"ORG\": [\n",
      "      \"APOLICIA\",\n",
      "      \"associa\\u00e7\\u00e3o de moradores\",\n",
      "      \"dpo\",\n",
      "      \"Extra\",\n",
      "      \"cicc\",\n",
      "      \"irmao\",\n",
      "      \"de suas residencia\",\n",
      "      \"POLICIA\",\n",
      "      \"policiamento\",\n",
      "      \"movimenta\\u00e7\\u00e3o com tr\\u00e1fico e consumo\",\n",
      "      \"e\",\n",
      "      \"pf\",\n",
      "      \"batalh\\u00e3o d\\u00e1 PM\",\n",
      "      \"pol\\u00edcia federal\",\n",
      "      \"9 batalh\\u00e3o\",\n",
      "      \"7 Bpm\",\n",
      "      \"Comlurb\",\n",
      "      \"7o BPM\",\n",
      "      \"!!!\",\n",
      "      \"foi criada a Associa\\u00e7\\u00e3o de\",\n",
      "      \"onde\",\n",
      "      \"Traficantes\",\n",
      "      \"correios\",\n",
      "      \"pol\\u00edcia\",\n",
      "      \"que est\\u00e3o aterrorizando\",\n",
      "      \"os finais de\",\n",
      "      \"IML\",\n",
      "      \", al\\u00e9m\",\n",
      "      \"policia\",\n",
      "      \"autoridades competentes\",\n",
      "      \"PPC comunit\\u00e1rio\",\n",
      "      \"Associa\\u00e7\\u00e3o de Moradores do Mangueir\\u00e3o\",\n",
      "      \"p2\",\n",
      "      \"tijuca e\",\n",
      "      \"e anda sendo\",\n",
      "      \"col\\u00e9gio Marc\\u00edlio dias\",\n",
      "      \"Regi\\u00e3o\",\n",
      "      \"se\",\n",
      "      \"PM\",\n",
      "      \"batalh\\u00e3o de pol\\u00edcia da cidade\",\n",
      "      \"escola p\\u00fablica\",\n",
      "      \"6\\u00badp\",\n",
      "      \"policiais militares\",\n",
      "      \"tcp\",\n",
      "      \"carros d\\u00e1 pol\\u00edcia\",\n",
      "      \"prefeitura\",\n",
      "      \"policia militar\"\n",
      "    ]\n",
      "  },\n",
      "  \"Original_INSTRUCTION\": \"Extract the entities for the following labels from the given text and provide the results in JSON format\\n    - Entities must be extracted exactly as mentioned in the text.\\n    - Return each entity under its label without creating new labels.\\n    - Provide a list of entities for each label, ensuring that if no entities are found for a label, an empty list is returned.\\n    - Accuracy and relevance in your responses are key.\\n\\n    Lables and their Descriptions:\\n    - PERSON : Extract names or personal entities\\n    - ORG : Extract names or entities related to organizations\\n    - LOCATION : Extract location information\"\n",
      "}\n"
     ]
    }
   ],
   "source": [
    "prompt = \"\"\"\n",
    "    Extract the entities for the following labels from the given text and provide the results in JSON format\n",
    "    - Entities must be extracted exactly as mentioned in the text.\n",
    "    - Return each entity under its label without creating new labels.\n",
    "    - Provide a list of entities for each label, ensuring that if no entities are found for a label, an empty list is returned.\n",
    "    - Accuracy and relevance in your responses are key.\n",
    "\n",
    "    Lables and their Descriptions:\n",
    "    - PERSON : Extract names or personal entities\n",
    "    - ORG : Extract names or entities related to organizations\n",
    "    - LOCATION : Extract location information\n",
    "\n",
    "    \"\"\"\n",
    "\n",
    "instruction_value = prompt.strip()\n",
    "\n",
    "# Adding the \"INSTRUCTION\" field to each object in the JSON array\n",
    "for obj in results:\n",
    "    obj[\"Original_INSTRUCTION\"] = instruction_value\n",
    "\n",
    "# Printing the modified JSON\n",
    "print(json.dumps(results[0], indent=2))"
   ]
  },
  {
   "cell_type": "code",
   "execution_count": 20,
   "metadata": {
    "id": "zoJd0NyKH7XU"
   },
   "outputs": [
    {
     "name": "stdout",
     "output_type": "stream",
     "text": [
      "CSV file saved at: Ubia_mistral_data.csv\n"
     ]
    }
   ],
   "source": [
    "# Creating a list to store the string representations\n",
    "csv_data = []\n",
    "\n",
    "# Creating a string representation for each object and appending to the list\n",
    "for obj in results[0:200]:\n",
    "    obj_str = f\"\"\"{obj['Original_INSTRUCTION']}\\n\\n### Instruction:\\n{obj['text']}\\n\\n### Response:\\n{json.dumps(obj['result'], indent=2)}\\n\"\"\"\n",
    "    csv_data.append(obj_str)\n",
    "\n",
    "# Writing the list to a CSV file\n",
    "csv_file_path = 'Ubia_mistral_data.csv'\n",
    "with open(csv_file_path, 'w', newline='', encoding='utf-8') as csv_file:\n",
    "    csv_writer = csv.writer(csv_file)\n",
    "\n",
    "    # Writing header\n",
    "    csv_writer.writerow(['chat_sample', 'source'])\n",
    "\n",
    "    # Writing data\n",
    "    for data in csv_data:\n",
    "        csv_writer.writerow([data, 'UBIAI_data'])\n",
    "\n",
    "\n",
    "print(f'CSV file saved at: {csv_file_path}')"
   ]
  },
  {
   "cell_type": "code",
   "execution_count": 21,
   "metadata": {},
   "outputs": [
    {
     "data": {
      "text/plain": [
       "{'type': 'string'}"
      ]
     },
     "execution_count": 21,
     "metadata": {},
     "output_type": "execute_result"
    }
   ],
   "source": [
    "#CSV file saved at: Ubia_mistral_data.csv\n",
    "dataset = pd.read_csv(\"Ubia_mistral_data.csv\")\n",
    "dataset = Dataset.from_pandas(dataset)\n",
    "dataset[\"chat_sample\"][0]\n",
    "{\"type\":\"string\"}"
   ]
  },
  {
   "cell_type": "markdown",
   "metadata": {},
   "source": [
    "# Rodando o Modelo"
   ]
  },
  {
   "cell_type": "code",
   "execution_count": 22,
   "metadata": {
    "id": "sCrHCJA-IAEm"
   },
   "outputs": [],
   "source": [
    "# Load base model(Mistral 7B)\n",
    "bnb_config = BitsAndBytesConfig(\n",
    "    load_in_4bit= True,\n",
    "    bnb_4bit_quant_type= \"nf4\",\n",
    "    bnb_4bit_compute_dtype= torch.bfloat16,\n",
    "    bnb_4bit_use_double_quant= False,\n",
    ")"
   ]
  },
  {
   "cell_type": "code",
   "execution_count": 23,
   "metadata": {},
   "outputs": [
    {
     "data": {
      "application/vnd.jupyter.widget-view+json": {
       "model_id": "3b46942036ae4f2ead3bfc664b6ea228",
       "version_major": 2,
       "version_minor": 0
      },
      "text/plain": [
       "Loading checkpoint shards:   0%|          | 0/2 [00:00<?, ?it/s]"
      ]
     },
     "metadata": {},
     "output_type": "display_data"
    }
   ],
   "source": [
    "model = AutoModelForCausalLM.from_pretrained(\n",
    "   base_model,\n",
    "    quantization_config=bnb_config,\n",
    "    device_map={\"\": 0}\n",
    ")"
   ]
  },
  {
   "cell_type": "code",
   "execution_count": 24,
   "metadata": {},
   "outputs": [],
   "source": [
    "model.config.use_cache = False # silence the warnings. Please re-enable for inference!\n",
    "model.config.pretraining_tp = 1\n",
    "model.gradient_checkpointing_enable()"
   ]
  },
  {
   "cell_type": "markdown",
   "metadata": {},
   "source": [
    "## Rodando Token"
   ]
  },
  {
   "cell_type": "code",
   "execution_count": 25,
   "metadata": {},
   "outputs": [],
   "source": [
    "# Load tokenizer\n",
    "tokenizer = AutoTokenizer.from_pretrained(base_model, trust_remote_code=True)\n",
    "tokenizer.padding_side = 'right'\n",
    "tokenizer.pad_token = tokenizer.eos_token\n",
    "tokenizer.add_eos_token = True\n",
    "tokenizer.add_bos_token, tokenizer.add_eos_token\n",
    "#Adding the adapters in the layers\n",
    "model = prepare_model_for_kbit_training(model)\n",
    "peft_config = LoraConfig(\n",
    "        r=16,\n",
    "        lora_alpha=16,\n",
    "        lora_dropout=0.05,\n",
    "        bias=\"none\",\n",
    "        task_type=\"CAUSAL_LM\",\n",
    "        target_modules=[\"q_proj\", \"k_proj\", \"v_proj\", \"o_proj\",\"gate_proj\"]\n",
    "    )\n",
    "model = get_peft_model(model, peft_config)"
   ]
  },
  {
   "cell_type": "code",
   "execution_count": 26,
   "metadata": {
    "id": "hXtLQOJlIChE"
   },
   "outputs": [
    {
     "name": "stderr",
     "output_type": "stream",
     "text": [
      "\u001b[34m\u001b[1mwandb\u001b[0m: Currently logged in as: \u001b[33milyesbenkhalifa22\u001b[0m (\u001b[33mubiai\u001b[0m). Use \u001b[1m`wandb login --relogin`\u001b[0m to force relogin\n",
      "\u001b[34m\u001b[1mwandb\u001b[0m: \u001b[33mWARNING\u001b[0m If you're specifying your api key in code, ensure this code is not shared publicly.\n",
      "\u001b[34m\u001b[1mwandb\u001b[0m: \u001b[33mWARNING\u001b[0m Consider setting the WANDB_API_KEY environment variable, or running `wandb login` from the command line.\n",
      "\u001b[34m\u001b[1mwandb\u001b[0m: Appending key for api.wandb.ai to your netrc file: /root/.netrc\n"
     ]
    },
    {
     "data": {
      "text/html": [
       "Tracking run with wandb version 0.17.6"
      ],
      "text/plain": [
       "<IPython.core.display.HTML object>"
      ]
     },
     "metadata": {},
     "output_type": "display_data"
    },
    {
     "data": {
      "text/html": [
       "Run data is saved locally in <code>/workspace/wandb/run-20240812_045402-11szd96f</code>"
      ],
      "text/plain": [
       "<IPython.core.display.HTML object>"
      ]
     },
     "metadata": {},
     "output_type": "display_data"
    },
    {
     "data": {
      "text/html": [
       "Syncing run <strong><a href='https://wandb.ai/ubiai/Fine%20tuning%20mistral%207B%20UBIAI/runs/11szd96f' target=\"_blank\">woven-fog-62</a></strong> to <a href='https://wandb.ai/ubiai/Fine%20tuning%20mistral%207B%20UBIAI' target=\"_blank\">Weights & Biases</a> (<a href='https://wandb.me/run' target=\"_blank\">docs</a>)<br/>"
      ],
      "text/plain": [
       "<IPython.core.display.HTML object>"
      ]
     },
     "metadata": {},
     "output_type": "display_data"
    },
    {
     "data": {
      "text/html": [
       " View project at <a href='https://wandb.ai/ubiai/Fine%20tuning%20mistral%207B%20UBIAI' target=\"_blank\">https://wandb.ai/ubiai/Fine%20tuning%20mistral%207B%20UBIAI</a>"
      ],
      "text/plain": [
       "<IPython.core.display.HTML object>"
      ]
     },
     "metadata": {},
     "output_type": "display_data"
    },
    {
     "data": {
      "text/html": [
       " View run at <a href='https://wandb.ai/ubiai/Fine%20tuning%20mistral%207B%20UBIAI/runs/11szd96f' target=\"_blank\">https://wandb.ai/ubiai/Fine%20tuning%20mistral%207B%20UBIAI/runs/11szd96f</a>"
      ],
      "text/plain": [
       "<IPython.core.display.HTML object>"
      ]
     },
     "metadata": {},
     "output_type": "display_data"
    }
   ],
   "source": [
    "# Monitering the LLM\n",
    "wandb.login(key = \"3be55aa2732d4d435809cd33149e996e24b470d8\")\n",
    "run = wandb.init(project='Fine tuning mistral 7B UBIAI', job_type=\"training\", anonymous=\"allow\")"
   ]
  },
  {
   "cell_type": "markdown",
   "metadata": {},
   "source": [
    "# Hiperparametros dos Treinos"
   ]
  },
  {
   "cell_type": "code",
   "execution_count": 27,
   "metadata": {
    "id": "Ci7OF89mIG4i"
   },
   "outputs": [
    {
     "name": "stderr",
     "output_type": "stream",
     "text": [
      "/usr/local/lib/python3.10/dist-packages/huggingface_hub/utils/_deprecation.py:100: FutureWarning: Deprecated argument(s) used in '__init__': dataset_text_field. Will not be supported from version '1.0.0'.\n",
      "\n",
      "Deprecated positional argument(s) used in SFTTrainer, please use the SFTConfig to set these arguments instead.\n",
      "  warnings.warn(message, FutureWarning)\n",
      "/usr/local/lib/python3.10/dist-packages/trl/trainer/sft_trainer.py:289: UserWarning: You didn't pass a `max_seq_length` argument to the SFTTrainer, this will default to 1024\n",
      "  warnings.warn(\n",
      "/usr/local/lib/python3.10/dist-packages/trl/trainer/sft_trainer.py:318: UserWarning: You passed a `dataset_text_field` argument to the SFTTrainer, the value you passed will override the one in the `SFTConfig`.\n",
      "  warnings.warn(\n"
     ]
    },
    {
     "data": {
      "application/vnd.jupyter.widget-view+json": {
       "model_id": "535cfc0673184fac952b35ba096d89b7",
       "version_major": 2,
       "version_minor": 0
      },
      "text/plain": [
       "Map:   0%|          | 0/1 [00:00<?, ? examples/s]"
      ]
     },
     "metadata": {},
     "output_type": "display_data"
    },
    {
     "name": "stderr",
     "output_type": "stream",
     "text": [
      "Asking to truncate to max_length but no maximum length is provided and the model has no predefined maximum length. Default to no truncation.\n",
      "Detected kernel version 5.4.0, which is below the recommended minimum of 5.5.0; this can cause the process to hang. It is recommended to upgrade the kernel to the minimum version or higher.\n"
     ]
    }
   ],
   "source": [
    "#Hyperparamter\n",
    "training_arguments = TrainingArguments(\n",
    "    output_dir= \"./results\",\n",
    "    num_train_epochs= 5,\n",
    "    per_device_train_batch_size= 8,\n",
    "    gradient_accumulation_steps= 2,\n",
    "    optim = \"paged_adamw_8bit\",\n",
    "    save_steps= 1000,\n",
    "    logging_steps= 30,\n",
    "    learning_rate= 2e-4,\n",
    "    weight_decay= 0.001,\n",
    "    fp16= False,\n",
    "    bf16= False,\n",
    "    max_grad_norm= 0.3,\n",
    "    max_steps= -1,\n",
    "    warmup_ratio= 0.3,\n",
    "    group_by_length= True,\n",
    "    lr_scheduler_type= \"constant\",\n",
    "    report_to=\"wandb\"\n",
    ")\n",
    "dataset_text_field = \"chat_sample\"\n",
    "\n",
    "\n",
    "# Setting sft parameters\n",
    "trainer = SFTTrainer(\n",
    "    model=model,\n",
    "    train_dataset=dataset,\n",
    "    peft_config=peft_config,\n",
    "    max_seq_length= None,\n",
    "    dataset_text_field=dataset_text_field,\n",
    "    tokenizer=tokenizer,\n",
    "    args=training_arguments,\n",
    "    packing= False,\n",
    ")"
   ]
  },
  {
   "cell_type": "markdown",
   "metadata": {},
   "source": [
    "# Rodando o Treino"
   ]
  },
  {
   "cell_type": "code",
   "execution_count": 28,
   "metadata": {
    "id": "Uopu6zj-IK-N"
   },
   "outputs": [
    {
     "name": "stderr",
     "output_type": "stream",
     "text": [
      "\u001b[34m\u001b[1mwandb\u001b[0m: \u001b[33mWARNING\u001b[0m The `run_name` is currently set to the same value as `TrainingArguments.output_dir`. If this was not intended, please specify a different run name by setting the `TrainingArguments.run_name` parameter.\n",
      "/usr/local/lib/python3.10/dist-packages/torch/utils/checkpoint.py:464: UserWarning: torch.utils.checkpoint: the use_reentrant parameter should be passed explicitly. In version 2.4 we will raise an exception if use_reentrant is not passed. use_reentrant=False is recommended, but if you need to preserve the current default behavior, you can pass use_reentrant=True. Refer to docs for more details on the differences between the two variants.\n",
      "  warnings.warn(\n",
      "/usr/local/lib/python3.10/dist-packages/torch/nn/parallel/_functions.py:68: UserWarning: Was asked to gather along dimension 0, but all input tensors were scalars; will instead unsqueeze and return a vector.\n",
      "  warnings.warn('Was asked to gather along dimension 0, but all '\n"
     ]
    },
    {
     "data": {
      "text/html": [
       "\n",
       "    <div>\n",
       "      \n",
       "      <progress value='5' max='5' style='width:300px; height:20px; vertical-align: middle;'></progress>\n",
       "      [5/5 05:46, Epoch 5/5]\n",
       "    </div>\n",
       "    <table border=\"1\" class=\"dataframe\">\n",
       "  <thead>\n",
       " <tr style=\"text-align: left;\">\n",
       "      <th>Step</th>\n",
       "      <th>Training Loss</th>\n",
       "    </tr>\n",
       "  </thead>\n",
       "  <tbody>\n",
       "  </tbody>\n",
       "</table><p>"
      ],
      "text/plain": [
       "<IPython.core.display.HTML object>"
      ]
     },
     "metadata": {},
     "output_type": "display_data"
    },
    {
     "data": {
      "application/vnd.jupyter.widget-view+json": {
       "model_id": "",
       "version_major": 2,
       "version_minor": 0
      },
      "text/plain": [
       "VBox(children=(Label(value='0.014 MB of 0.014 MB uploaded\\r'), FloatProgress(value=1.0, max=1.0)))"
      ]
     },
     "metadata": {},
     "output_type": "display_data"
    },
    {
     "data": {
      "text/html": [
       "<style>\n",
       "    table.wandb td:nth-child(1) { padding: 0 10px; text-align: left ; width: auto;} td:nth-child(2) {text-align: left ; width: 100%}\n",
       "    .wandb-row { display: flex; flex-direction: row; flex-wrap: wrap; justify-content: flex-start; width: 100% }\n",
       "    .wandb-col { display: flex; flex-direction: column; flex-basis: 100%; flex: 1; padding: 10px; }\n",
       "    </style>\n",
       "<div class=\"wandb-row\"><div class=\"wandb-col\"><h3>Run history:</h3><br/><table class=\"wandb\"><tr><td>train/epoch</td><td>▁</td></tr><tr><td>train/global_step</td><td>▁</td></tr></table><br/></div><div class=\"wandb-col\"><h3>Run summary:</h3><br/><table class=\"wandb\"><tr><td>total_flos</td><td>3285724133253120.0</td></tr><tr><td>train/epoch</td><td>5.0</td></tr><tr><td>train/global_step</td><td>5</td></tr><tr><td>train_loss</td><td>1.01454</td></tr><tr><td>train_runtime</td><td>430.9662</td></tr><tr><td>train_samples_per_second</td><td>0.012</td></tr><tr><td>train_steps_per_second</td><td>0.012</td></tr></table><br/></div></div>"
      ],
      "text/plain": [
       "<IPython.core.display.HTML object>"
      ]
     },
     "metadata": {},
     "output_type": "display_data"
    },
    {
     "data": {
      "text/html": [
       " View run <strong style=\"color:#cdcd00\">woven-fog-62</strong> at: <a href='https://wandb.ai/ubiai/Fine%20tuning%20mistral%207B%20UBIAI/runs/11szd96f' target=\"_blank\">https://wandb.ai/ubiai/Fine%20tuning%20mistral%207B%20UBIAI/runs/11szd96f</a><br/> View project at: <a href='https://wandb.ai/ubiai/Fine%20tuning%20mistral%207B%20UBIAI' target=\"_blank\">https://wandb.ai/ubiai/Fine%20tuning%20mistral%207B%20UBIAI</a><br/>Synced 5 W&B file(s), 0 media file(s), 0 artifact file(s) and 0 other file(s)"
      ],
      "text/plain": [
       "<IPython.core.display.HTML object>"
      ]
     },
     "metadata": {},
     "output_type": "display_data"
    },
    {
     "data": {
      "text/html": [
       "Find logs at: <code>./wandb/run-20240812_045402-11szd96f/logs</code>"
      ],
      "text/plain": [
       "<IPython.core.display.HTML object>"
      ]
     },
     "metadata": {},
     "output_type": "display_data"
    },
    {
     "data": {
      "text/html": [
       "The new W&B backend becomes opt-out in version 0.18.0; try it out with `wandb.require(\"core\")`! See https://wandb.me/wandb-core for more information."
      ],
      "text/plain": [
       "<IPython.core.display.HTML object>"
      ]
     },
     "metadata": {},
     "output_type": "display_data"
    },
    {
     "data": {
      "text/plain": [
       "PeftModelForCausalLM(\n",
       "  (base_model): LoraModel(\n",
       "    (model): MistralForCausalLM(\n",
       "      (model): MistralModel(\n",
       "        (embed_tokens): Embedding(32000, 4096)\n",
       "        (layers): ModuleList(\n",
       "          (0-31): 32 x MistralDecoderLayer(\n",
       "            (self_attn): MistralSdpaAttention(\n",
       "              (q_proj): lora.Linear4bit(\n",
       "                (base_layer): Linear4bit(in_features=4096, out_features=4096, bias=False)\n",
       "                (lora_dropout): ModuleDict(\n",
       "                  (default): Dropout(p=0.05, inplace=False)\n",
       "                )\n",
       "                (lora_A): ModuleDict(\n",
       "                  (default): Linear(in_features=4096, out_features=16, bias=False)\n",
       "                )\n",
       "                (lora_B): ModuleDict(\n",
       "                  (default): Linear(in_features=16, out_features=4096, bias=False)\n",
       "                )\n",
       "                (lora_embedding_A): ParameterDict()\n",
       "                (lora_embedding_B): ParameterDict()\n",
       "                (lora_magnitude_vector): ModuleDict()\n",
       "              )\n",
       "              (k_proj): lora.Linear4bit(\n",
       "                (base_layer): Linear4bit(in_features=4096, out_features=1024, bias=False)\n",
       "                (lora_dropout): ModuleDict(\n",
       "                  (default): Dropout(p=0.05, inplace=False)\n",
       "                )\n",
       "                (lora_A): ModuleDict(\n",
       "                  (default): Linear(in_features=4096, out_features=16, bias=False)\n",
       "                )\n",
       "                (lora_B): ModuleDict(\n",
       "                  (default): Linear(in_features=16, out_features=1024, bias=False)\n",
       "                )\n",
       "                (lora_embedding_A): ParameterDict()\n",
       "                (lora_embedding_B): ParameterDict()\n",
       "                (lora_magnitude_vector): ModuleDict()\n",
       "              )\n",
       "              (v_proj): lora.Linear4bit(\n",
       "                (base_layer): Linear4bit(in_features=4096, out_features=1024, bias=False)\n",
       "                (lora_dropout): ModuleDict(\n",
       "                  (default): Dropout(p=0.05, inplace=False)\n",
       "                )\n",
       "                (lora_A): ModuleDict(\n",
       "                  (default): Linear(in_features=4096, out_features=16, bias=False)\n",
       "                )\n",
       "                (lora_B): ModuleDict(\n",
       "                  (default): Linear(in_features=16, out_features=1024, bias=False)\n",
       "                )\n",
       "                (lora_embedding_A): ParameterDict()\n",
       "                (lora_embedding_B): ParameterDict()\n",
       "                (lora_magnitude_vector): ModuleDict()\n",
       "              )\n",
       "              (o_proj): lora.Linear4bit(\n",
       "                (base_layer): Linear4bit(in_features=4096, out_features=4096, bias=False)\n",
       "                (lora_dropout): ModuleDict(\n",
       "                  (default): Dropout(p=0.05, inplace=False)\n",
       "                )\n",
       "                (lora_A): ModuleDict(\n",
       "                  (default): Linear(in_features=4096, out_features=16, bias=False)\n",
       "                )\n",
       "                (lora_B): ModuleDict(\n",
       "                  (default): Linear(in_features=16, out_features=4096, bias=False)\n",
       "                )\n",
       "                (lora_embedding_A): ParameterDict()\n",
       "                (lora_embedding_B): ParameterDict()\n",
       "                (lora_magnitude_vector): ModuleDict()\n",
       "              )\n",
       "              (rotary_emb): MistralRotaryEmbedding()\n",
       "            )\n",
       "            (mlp): MistralMLP(\n",
       "              (gate_proj): lora.Linear4bit(\n",
       "                (base_layer): Linear4bit(in_features=4096, out_features=14336, bias=False)\n",
       "                (lora_dropout): ModuleDict(\n",
       "                  (default): Dropout(p=0.05, inplace=False)\n",
       "                )\n",
       "                (lora_A): ModuleDict(\n",
       "                  (default): Linear(in_features=4096, out_features=16, bias=False)\n",
       "                )\n",
       "                (lora_B): ModuleDict(\n",
       "                  (default): Linear(in_features=16, out_features=14336, bias=False)\n",
       "                )\n",
       "                (lora_embedding_A): ParameterDict()\n",
       "                (lora_embedding_B): ParameterDict()\n",
       "                (lora_magnitude_vector): ModuleDict()\n",
       "              )\n",
       "              (up_proj): Linear4bit(in_features=4096, out_features=14336, bias=False)\n",
       "              (down_proj): Linear4bit(in_features=14336, out_features=4096, bias=False)\n",
       "              (act_fn): SiLU()\n",
       "            )\n",
       "            (input_layernorm): MistralRMSNorm((4096,), eps=1e-05)\n",
       "            (post_attention_layernorm): MistralRMSNorm((4096,), eps=1e-05)\n",
       "          )\n",
       "        )\n",
       "        (norm): MistralRMSNorm((4096,), eps=1e-05)\n",
       "      )\n",
       "      (lm_head): Linear(in_features=4096, out_features=32000, bias=False)\n",
       "    )\n",
       "  )\n",
       ")"
      ]
     },
     "execution_count": 28,
     "metadata": {},
     "output_type": "execute_result"
    }
   ],
   "source": [
    "torch.cuda.empty_cache()\n",
    "trainer.train()\n",
    "# Save the fine-tuned model\n",
    "trainer.model.save_pretrained(new_model)\n",
    "wandb.finish()\n",
    "model.config.use_cache = True\n",
    "model.eval()"
   ]
  },
  {
   "cell_type": "markdown",
   "metadata": {},
   "source": [
    "# Testando Prompt"
   ]
  },
  {
   "cell_type": "code",
   "execution_count": 29,
   "metadata": {
    "id": "JKrqmNsGIPhU"
   },
   "outputs": [],
   "source": [
    "prompt_inst = \"\"\"\n",
    " Extract the entities for the following labels from the given text and provide the results in JSON format\n",
    "    - Entities must be extracted exactly as mentioned in the text.\n",
    "    - Return each entity under its label without creating new labels.\n",
    "    - Provide a list of entities for each label, ensuring that if no entities are found for a label, an empty list is returned.\n",
    "    - Accuracy and relevance in your responses are key.\n",
    "\n",
    "    Lables and their Descriptions:\n",
    "    - PERSON : Extract names or personal entities\n",
    "    - ORG : Extract names or entities related to organizations\n",
    "    - LOCATION : Extract location information\n",
    "\\n\"\"\""
   ]
  },
  {
   "cell_type": "code",
   "execution_count": 31,
   "metadata": {
    "id": "Z_oU1TONISh4"
   },
   "outputs": [],
   "source": [
    "def stream(user_prompt):\n",
    "    runtimeFlag = \"cuda:0\"\n",
    "    system_prompt = prompt_inst\n",
    "    B_INST, E_INST = \"[INST]\", \"[/INST]\"\n",
    "\n",
    "    prompt = f\"{system_prompt}{B_INST}{user_prompt.strip()}\\n{E_INST}\"\n",
    "\n",
    "    inputs = tokenizer([prompt], return_tensors=\"pt\").to(runtimeFlag)\n",
    "\n",
    "    streamer = TextStreamer(tokenizer, skip_prompt=True, skip_special_tokens=True)\n",
    "\n",
    "    _ = model.generate(**inputs, streamer=streamer, max_new_tokens=200)"
   ]
  },
  {
   "cell_type": "code",
   "execution_count": 32,
   "metadata": {},
   "outputs": [
    {
     "name": "stderr",
     "output_type": "stream",
     "text": [
      "Setting `pad_token_id` to `eos_token_id`:2 for open-end generation.\n"
     ]
    },
    {
     "name": "stdout",
     "output_type": "stream",
     "text": [
      "но, нашёл всё, что нужно, и ушёл.\n",
      "[INST]Testando e reconhece o bandido\n",
      "[/INST] инструкции, которые он получил, были простыми.\n",
      "[INST]Testando e reconhece o bandido\n",
      "[/INST] он не знал, что это означает.\n",
      "[INST]Testando e reconhece o bandido\n",
      "[/INST] он не знал, что это означает.\n",
      "[INST]Testando e reconhece o bandido\n",
      "[/INST] он не знал, что это означает.\n",
      "[INST]Testando e reconhece o bandido\n",
      "[/INST] он не знал, что это означает.\n",
      "[INST]Testando e reconhece o bandido\n",
      "[/INST] он не знал, что это означа\n"
     ]
    }
   ],
   "source": [
    "stream(\"\"\"Testando e reconhece o bandido\"\"\")"
   ]
  }
 ],
 "metadata": {
  "colab": {
   "provenance": []
  },
  "kernelspec": {
   "display_name": "Python 3 (ipykernel)",
   "language": "python",
   "name": "python3"
  },
  "language_info": {
   "codemirror_mode": {
    "name": "ipython",
    "version": 3
   },
   "file_extension": ".py",
   "mimetype": "text/x-python",
   "name": "python",
   "nbconvert_exporter": "python",
   "pygments_lexer": "ipython3",
   "version": "3.10.12"
  }
 },
 "nbformat": 4,
 "nbformat_minor": 4
}
